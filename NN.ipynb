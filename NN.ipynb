{
 "cells": [
  {
   "cell_type": "code",
   "execution_count": 2,
   "metadata": {},
   "outputs": [],
   "source": [
    "from sklearn import preprocessing\n",
    "from scipy.stats import chi2_contingency\n",
    "import numpy as np\n",
    "import pandas as pd\n",
    "import seaborn as sns\n",
    "from matplotlib import pyplot as plt\n",
    "\n",
    "# The following lines adjust the granularity of reporting.\n",
    "pd.options.display.max_rows = 10\n",
    "pd.options.display.float_format = \"{:.1f}\".format\n",
    "\n",
    "# The following line improves formatting when ouputting NumPy arrays.\n",
    "np.set_printoptions(linewidth=200)\n",
    "\n",
    "sns.set_theme(style='darkgrid')\n"
   ]
  },
  {
   "cell_type": "code",
   "execution_count": 3,
   "metadata": {},
   "outputs": [],
   "source": [
    "train = pd.read_csv('train.csv')\n",
    "train_index = train.index\n",
    "y = train['Survived']\n",
    "\n",
    "test = pd.read_csv('test.csv')\n",
    "\n",
    "\n",
    "df = pd.concat([train, test], ignore_index=True)\n",
    "\n",
    "test_index = df.index[-test.shape[0]:]\n"
   ]
  },
  {
   "cell_type": "code",
   "execution_count": 4,
   "metadata": {},
   "outputs": [
    {
     "data": {
      "text/plain": [
       "RangeIndex(start=891, stop=1309, step=1)"
      ]
     },
     "execution_count": 4,
     "metadata": {},
     "output_type": "execute_result"
    }
   ],
   "source": [
    "test_index\n"
   ]
  },
  {
   "attachments": {},
   "cell_type": "markdown",
   "metadata": {},
   "source": [
    "Preprocessing\n"
   ]
  },
  {
   "cell_type": "code",
   "execution_count": 5,
   "metadata": {},
   "outputs": [
    {
     "data": {
      "text/html": [
       "<div>\n",
       "<style scoped>\n",
       "    .dataframe tbody tr th:only-of-type {\n",
       "        vertical-align: middle;\n",
       "    }\n",
       "\n",
       "    .dataframe tbody tr th {\n",
       "        vertical-align: top;\n",
       "    }\n",
       "\n",
       "    .dataframe thead th {\n",
       "        text-align: right;\n",
       "    }\n",
       "</style>\n",
       "<table border=\"1\" class=\"dataframe\">\n",
       "  <thead>\n",
       "    <tr style=\"text-align: right;\">\n",
       "      <th></th>\n",
       "      <th>PassengerId</th>\n",
       "      <th>Survived</th>\n",
       "      <th>Pclass</th>\n",
       "      <th>Name</th>\n",
       "      <th>Sex</th>\n",
       "      <th>Age</th>\n",
       "      <th>SibSp</th>\n",
       "      <th>Parch</th>\n",
       "      <th>Ticket</th>\n",
       "      <th>Fare</th>\n",
       "      <th>Cabin</th>\n",
       "      <th>Embarked</th>\n",
       "    </tr>\n",
       "  </thead>\n",
       "  <tbody>\n",
       "    <tr>\n",
       "      <th>0</th>\n",
       "      <td>1</td>\n",
       "      <td>0</td>\n",
       "      <td>3</td>\n",
       "      <td>Braund, Mr. Owen Harris</td>\n",
       "      <td>male</td>\n",
       "      <td>22.0</td>\n",
       "      <td>1</td>\n",
       "      <td>0</td>\n",
       "      <td>A/5 21171</td>\n",
       "      <td>7.2</td>\n",
       "      <td>NaN</td>\n",
       "      <td>S</td>\n",
       "    </tr>\n",
       "    <tr>\n",
       "      <th>1</th>\n",
       "      <td>2</td>\n",
       "      <td>1</td>\n",
       "      <td>1</td>\n",
       "      <td>Cumings, Mrs. John Bradley (Florence Briggs Th...</td>\n",
       "      <td>female</td>\n",
       "      <td>38.0</td>\n",
       "      <td>1</td>\n",
       "      <td>0</td>\n",
       "      <td>PC 17599</td>\n",
       "      <td>71.3</td>\n",
       "      <td>C85</td>\n",
       "      <td>C</td>\n",
       "    </tr>\n",
       "    <tr>\n",
       "      <th>2</th>\n",
       "      <td>3</td>\n",
       "      <td>1</td>\n",
       "      <td>3</td>\n",
       "      <td>Heikkinen, Miss. Laina</td>\n",
       "      <td>female</td>\n",
       "      <td>26.0</td>\n",
       "      <td>0</td>\n",
       "      <td>0</td>\n",
       "      <td>STON/O2. 3101282</td>\n",
       "      <td>7.9</td>\n",
       "      <td>NaN</td>\n",
       "      <td>S</td>\n",
       "    </tr>\n",
       "    <tr>\n",
       "      <th>3</th>\n",
       "      <td>4</td>\n",
       "      <td>1</td>\n",
       "      <td>1</td>\n",
       "      <td>Futrelle, Mrs. Jacques Heath (Lily May Peel)</td>\n",
       "      <td>female</td>\n",
       "      <td>35.0</td>\n",
       "      <td>1</td>\n",
       "      <td>0</td>\n",
       "      <td>113803</td>\n",
       "      <td>53.1</td>\n",
       "      <td>C123</td>\n",
       "      <td>S</td>\n",
       "    </tr>\n",
       "    <tr>\n",
       "      <th>4</th>\n",
       "      <td>5</td>\n",
       "      <td>0</td>\n",
       "      <td>3</td>\n",
       "      <td>Allen, Mr. William Henry</td>\n",
       "      <td>male</td>\n",
       "      <td>35.0</td>\n",
       "      <td>0</td>\n",
       "      <td>0</td>\n",
       "      <td>373450</td>\n",
       "      <td>8.1</td>\n",
       "      <td>NaN</td>\n",
       "      <td>S</td>\n",
       "    </tr>\n",
       "  </tbody>\n",
       "</table>\n",
       "</div>"
      ],
      "text/plain": [
       "   PassengerId  Survived  Pclass  \\\n",
       "0            1         0       3   \n",
       "1            2         1       1   \n",
       "2            3         1       3   \n",
       "3            4         1       1   \n",
       "4            5         0       3   \n",
       "\n",
       "                                                Name     Sex  Age  SibSp  \\\n",
       "0                            Braund, Mr. Owen Harris    male 22.0      1   \n",
       "1  Cumings, Mrs. John Bradley (Florence Briggs Th...  female 38.0      1   \n",
       "2                             Heikkinen, Miss. Laina  female 26.0      0   \n",
       "3       Futrelle, Mrs. Jacques Heath (Lily May Peel)  female 35.0      1   \n",
       "4                           Allen, Mr. William Henry    male 35.0      0   \n",
       "\n",
       "   Parch            Ticket  Fare Cabin Embarked  \n",
       "0      0         A/5 21171   7.2   NaN        S  \n",
       "1      0          PC 17599  71.3   C85        C  \n",
       "2      0  STON/O2. 3101282   7.9   NaN        S  \n",
       "3      0            113803  53.1  C123        S  \n",
       "4      0            373450   8.1   NaN        S  "
      ]
     },
     "execution_count": 5,
     "metadata": {},
     "output_type": "execute_result"
    }
   ],
   "source": [
    "train.head()\n"
   ]
  },
  {
   "cell_type": "code",
   "execution_count": 6,
   "metadata": {},
   "outputs": [
    {
     "name": "stdout",
     "output_type": "stream",
     "text": [
      "<class 'pandas.core.frame.DataFrame'>\n",
      "RangeIndex: 1309 entries, 0 to 1308\n",
      "Data columns (total 12 columns):\n",
      " #   Column       Non-Null Count  Dtype  \n",
      "---  ------       --------------  -----  \n",
      " 0   PassengerId  1309 non-null   int64  \n",
      " 1   Survived     891 non-null    float64\n",
      " 2   Pclass       1309 non-null   int64  \n",
      " 3   Name         1309 non-null   object \n",
      " 4   Sex          1309 non-null   object \n",
      " 5   Age          1046 non-null   float64\n",
      " 6   SibSp        1309 non-null   int64  \n",
      " 7   Parch        1309 non-null   int64  \n",
      " 8   Ticket       1309 non-null   object \n",
      " 9   Fare         1308 non-null   float64\n",
      " 10  Cabin        295 non-null    object \n",
      " 11  Embarked     1307 non-null   object \n",
      "dtypes: float64(3), int64(4), object(5)\n",
      "memory usage: 122.8+ KB\n"
     ]
    }
   ],
   "source": [
    "df.info()\n"
   ]
  },
  {
   "cell_type": "code",
   "execution_count": 7,
   "metadata": {},
   "outputs": [
    {
     "data": {
      "text/html": [
       "<div>\n",
       "<style scoped>\n",
       "    .dataframe tbody tr th:only-of-type {\n",
       "        vertical-align: middle;\n",
       "    }\n",
       "\n",
       "    .dataframe tbody tr th {\n",
       "        vertical-align: top;\n",
       "    }\n",
       "\n",
       "    .dataframe thead th {\n",
       "        text-align: right;\n",
       "    }\n",
       "</style>\n",
       "<table border=\"1\" class=\"dataframe\">\n",
       "  <thead>\n",
       "    <tr style=\"text-align: right;\">\n",
       "      <th></th>\n",
       "      <th>PassengerId</th>\n",
       "      <th>Survived</th>\n",
       "      <th>Pclass</th>\n",
       "      <th>Age</th>\n",
       "      <th>SibSp</th>\n",
       "      <th>Parch</th>\n",
       "      <th>Fare</th>\n",
       "    </tr>\n",
       "  </thead>\n",
       "  <tbody>\n",
       "    <tr>\n",
       "      <th>count</th>\n",
       "      <td>1309.0</td>\n",
       "      <td>891.0</td>\n",
       "      <td>1309.0</td>\n",
       "      <td>1046.0</td>\n",
       "      <td>1309.0</td>\n",
       "      <td>1309.0</td>\n",
       "      <td>1308.0</td>\n",
       "    </tr>\n",
       "    <tr>\n",
       "      <th>mean</th>\n",
       "      <td>655.0</td>\n",
       "      <td>0.4</td>\n",
       "      <td>2.3</td>\n",
       "      <td>29.9</td>\n",
       "      <td>0.5</td>\n",
       "      <td>0.4</td>\n",
       "      <td>33.3</td>\n",
       "    </tr>\n",
       "    <tr>\n",
       "      <th>std</th>\n",
       "      <td>378.0</td>\n",
       "      <td>0.5</td>\n",
       "      <td>0.8</td>\n",
       "      <td>14.4</td>\n",
       "      <td>1.0</td>\n",
       "      <td>0.9</td>\n",
       "      <td>51.8</td>\n",
       "    </tr>\n",
       "    <tr>\n",
       "      <th>min</th>\n",
       "      <td>1.0</td>\n",
       "      <td>0.0</td>\n",
       "      <td>1.0</td>\n",
       "      <td>0.2</td>\n",
       "      <td>0.0</td>\n",
       "      <td>0.0</td>\n",
       "      <td>0.0</td>\n",
       "    </tr>\n",
       "    <tr>\n",
       "      <th>25%</th>\n",
       "      <td>328.0</td>\n",
       "      <td>0.0</td>\n",
       "      <td>2.0</td>\n",
       "      <td>21.0</td>\n",
       "      <td>0.0</td>\n",
       "      <td>0.0</td>\n",
       "      <td>7.9</td>\n",
       "    </tr>\n",
       "    <tr>\n",
       "      <th>50%</th>\n",
       "      <td>655.0</td>\n",
       "      <td>0.0</td>\n",
       "      <td>3.0</td>\n",
       "      <td>28.0</td>\n",
       "      <td>0.0</td>\n",
       "      <td>0.0</td>\n",
       "      <td>14.5</td>\n",
       "    </tr>\n",
       "    <tr>\n",
       "      <th>75%</th>\n",
       "      <td>982.0</td>\n",
       "      <td>1.0</td>\n",
       "      <td>3.0</td>\n",
       "      <td>39.0</td>\n",
       "      <td>1.0</td>\n",
       "      <td>0.0</td>\n",
       "      <td>31.3</td>\n",
       "    </tr>\n",
       "    <tr>\n",
       "      <th>max</th>\n",
       "      <td>1309.0</td>\n",
       "      <td>1.0</td>\n",
       "      <td>3.0</td>\n",
       "      <td>80.0</td>\n",
       "      <td>8.0</td>\n",
       "      <td>9.0</td>\n",
       "      <td>512.3</td>\n",
       "    </tr>\n",
       "  </tbody>\n",
       "</table>\n",
       "</div>"
      ],
      "text/plain": [
       "       PassengerId  Survived  Pclass    Age  SibSp  Parch   Fare\n",
       "count       1309.0     891.0  1309.0 1046.0 1309.0 1309.0 1308.0\n",
       "mean         655.0       0.4     2.3   29.9    0.5    0.4   33.3\n",
       "std          378.0       0.5     0.8   14.4    1.0    0.9   51.8\n",
       "min            1.0       0.0     1.0    0.2    0.0    0.0    0.0\n",
       "25%          328.0       0.0     2.0   21.0    0.0    0.0    7.9\n",
       "50%          655.0       0.0     3.0   28.0    0.0    0.0   14.5\n",
       "75%          982.0       1.0     3.0   39.0    1.0    0.0   31.3\n",
       "max         1309.0       1.0     3.0   80.0    8.0    9.0  512.3"
      ]
     },
     "execution_count": 7,
     "metadata": {},
     "output_type": "execute_result"
    }
   ],
   "source": [
    "df.describe()\n"
   ]
  },
  {
   "cell_type": "code",
   "execution_count": 8,
   "metadata": {},
   "outputs": [],
   "source": [
    "def remove_other_elements(s, keep):\n",
    "    res = ''\n",
    "    for el in s:\n",
    "        if el in keep:\n",
    "            res += el\n",
    "    if res == '':\n",
    "        res = '0'\n",
    "    return res\n"
   ]
  },
  {
   "cell_type": "code",
   "execution_count": 9,
   "metadata": {},
   "outputs": [],
   "source": [
    "df['Ticket'] = df['Ticket'].apply(\n",
    "    lambda x: remove_other_elements(str(x), '0123456789')[:1]).astype(int)\n"
   ]
  },
  {
   "cell_type": "code",
   "execution_count": 13,
   "metadata": {},
   "outputs": [
    {
     "data": {
      "text/html": [
       "<div>\n",
       "<style scoped>\n",
       "    .dataframe tbody tr th:only-of-type {\n",
       "        vertical-align: middle;\n",
       "    }\n",
       "\n",
       "    .dataframe tbody tr th {\n",
       "        vertical-align: top;\n",
       "    }\n",
       "\n",
       "    .dataframe thead th {\n",
       "        text-align: right;\n",
       "    }\n",
       "</style>\n",
       "<table border=\"1\" class=\"dataframe\">\n",
       "  <thead>\n",
       "    <tr style=\"text-align: right;\">\n",
       "      <th></th>\n",
       "      <th>PassengerId</th>\n",
       "      <th>Survived</th>\n",
       "      <th>Pclass</th>\n",
       "      <th>Name</th>\n",
       "      <th>Sex</th>\n",
       "      <th>Age</th>\n",
       "      <th>SibSp</th>\n",
       "      <th>Parch</th>\n",
       "      <th>Ticket</th>\n",
       "      <th>Fare</th>\n",
       "      <th>Cabin</th>\n",
       "      <th>Embarked</th>\n",
       "    </tr>\n",
       "  </thead>\n",
       "  <tbody>\n",
       "    <tr>\n",
       "      <th>0</th>\n",
       "      <td>1</td>\n",
       "      <td>0.0</td>\n",
       "      <td>3</td>\n",
       "      <td>Braund, Mr. Owen Harris</td>\n",
       "      <td>male</td>\n",
       "      <td>22.0</td>\n",
       "      <td>1</td>\n",
       "      <td>0</td>\n",
       "      <td>5</td>\n",
       "      <td>7.2</td>\n",
       "      <td>N/A</td>\n",
       "      <td>S</td>\n",
       "    </tr>\n",
       "    <tr>\n",
       "      <th>1</th>\n",
       "      <td>2</td>\n",
       "      <td>1.0</td>\n",
       "      <td>1</td>\n",
       "      <td>Cumings, Mrs. John Bradley (Florence Briggs Th...</td>\n",
       "      <td>female</td>\n",
       "      <td>38.0</td>\n",
       "      <td>1</td>\n",
       "      <td>0</td>\n",
       "      <td>1</td>\n",
       "      <td>71.3</td>\n",
       "      <td>C</td>\n",
       "      <td>C</td>\n",
       "    </tr>\n",
       "    <tr>\n",
       "      <th>2</th>\n",
       "      <td>3</td>\n",
       "      <td>1.0</td>\n",
       "      <td>3</td>\n",
       "      <td>Heikkinen, Miss. Laina</td>\n",
       "      <td>female</td>\n",
       "      <td>26.0</td>\n",
       "      <td>0</td>\n",
       "      <td>0</td>\n",
       "      <td>2</td>\n",
       "      <td>7.9</td>\n",
       "      <td>N/A</td>\n",
       "      <td>S</td>\n",
       "    </tr>\n",
       "    <tr>\n",
       "      <th>3</th>\n",
       "      <td>4</td>\n",
       "      <td>1.0</td>\n",
       "      <td>1</td>\n",
       "      <td>Futrelle, Mrs. Jacques Heath (Lily May Peel)</td>\n",
       "      <td>female</td>\n",
       "      <td>35.0</td>\n",
       "      <td>1</td>\n",
       "      <td>0</td>\n",
       "      <td>1</td>\n",
       "      <td>53.1</td>\n",
       "      <td>C</td>\n",
       "      <td>S</td>\n",
       "    </tr>\n",
       "    <tr>\n",
       "      <th>4</th>\n",
       "      <td>5</td>\n",
       "      <td>0.0</td>\n",
       "      <td>3</td>\n",
       "      <td>Allen, Mr. William Henry</td>\n",
       "      <td>male</td>\n",
       "      <td>35.0</td>\n",
       "      <td>0</td>\n",
       "      <td>0</td>\n",
       "      <td>3</td>\n",
       "      <td>8.1</td>\n",
       "      <td>N/A</td>\n",
       "      <td>S</td>\n",
       "    </tr>\n",
       "    <tr>\n",
       "      <th>...</th>\n",
       "      <td>...</td>\n",
       "      <td>...</td>\n",
       "      <td>...</td>\n",
       "      <td>...</td>\n",
       "      <td>...</td>\n",
       "      <td>...</td>\n",
       "      <td>...</td>\n",
       "      <td>...</td>\n",
       "      <td>...</td>\n",
       "      <td>...</td>\n",
       "      <td>...</td>\n",
       "      <td>...</td>\n",
       "    </tr>\n",
       "    <tr>\n",
       "      <th>1304</th>\n",
       "      <td>1305</td>\n",
       "      <td>NaN</td>\n",
       "      <td>3</td>\n",
       "      <td>Spector, Mr. Woolf</td>\n",
       "      <td>male</td>\n",
       "      <td>NaN</td>\n",
       "      <td>0</td>\n",
       "      <td>0</td>\n",
       "      <td>5</td>\n",
       "      <td>8.1</td>\n",
       "      <td>N/A</td>\n",
       "      <td>S</td>\n",
       "    </tr>\n",
       "    <tr>\n",
       "      <th>1305</th>\n",
       "      <td>1306</td>\n",
       "      <td>NaN</td>\n",
       "      <td>1</td>\n",
       "      <td>Oliva y Ocana, Dona. Fermina</td>\n",
       "      <td>female</td>\n",
       "      <td>39.0</td>\n",
       "      <td>0</td>\n",
       "      <td>0</td>\n",
       "      <td>1</td>\n",
       "      <td>108.9</td>\n",
       "      <td>C</td>\n",
       "      <td>C</td>\n",
       "    </tr>\n",
       "    <tr>\n",
       "      <th>1306</th>\n",
       "      <td>1307</td>\n",
       "      <td>NaN</td>\n",
       "      <td>3</td>\n",
       "      <td>Saether, Mr. Simon Sivertsen</td>\n",
       "      <td>male</td>\n",
       "      <td>38.5</td>\n",
       "      <td>0</td>\n",
       "      <td>0</td>\n",
       "      <td>3</td>\n",
       "      <td>7.2</td>\n",
       "      <td>N/A</td>\n",
       "      <td>S</td>\n",
       "    </tr>\n",
       "    <tr>\n",
       "      <th>1307</th>\n",
       "      <td>1308</td>\n",
       "      <td>NaN</td>\n",
       "      <td>3</td>\n",
       "      <td>Ware, Mr. Frederick</td>\n",
       "      <td>male</td>\n",
       "      <td>NaN</td>\n",
       "      <td>0</td>\n",
       "      <td>0</td>\n",
       "      <td>3</td>\n",
       "      <td>8.1</td>\n",
       "      <td>N/A</td>\n",
       "      <td>S</td>\n",
       "    </tr>\n",
       "    <tr>\n",
       "      <th>1308</th>\n",
       "      <td>1309</td>\n",
       "      <td>NaN</td>\n",
       "      <td>3</td>\n",
       "      <td>Peter, Master. Michael J</td>\n",
       "      <td>male</td>\n",
       "      <td>NaN</td>\n",
       "      <td>1</td>\n",
       "      <td>1</td>\n",
       "      <td>2</td>\n",
       "      <td>22.4</td>\n",
       "      <td>N/A</td>\n",
       "      <td>C</td>\n",
       "    </tr>\n",
       "  </tbody>\n",
       "</table>\n",
       "<p>1309 rows × 12 columns</p>\n",
       "</div>"
      ],
      "text/plain": [
       "      PassengerId  Survived  Pclass  \\\n",
       "0               1       0.0       3   \n",
       "1               2       1.0       1   \n",
       "2               3       1.0       3   \n",
       "3               4       1.0       1   \n",
       "4               5       0.0       3   \n",
       "...           ...       ...     ...   \n",
       "1304         1305       NaN       3   \n",
       "1305         1306       NaN       1   \n",
       "1306         1307       NaN       3   \n",
       "1307         1308       NaN       3   \n",
       "1308         1309       NaN       3   \n",
       "\n",
       "                                                   Name     Sex  Age  SibSp  \\\n",
       "0                               Braund, Mr. Owen Harris    male 22.0      1   \n",
       "1     Cumings, Mrs. John Bradley (Florence Briggs Th...  female 38.0      1   \n",
       "2                                Heikkinen, Miss. Laina  female 26.0      0   \n",
       "3          Futrelle, Mrs. Jacques Heath (Lily May Peel)  female 35.0      1   \n",
       "4                              Allen, Mr. William Henry    male 35.0      0   \n",
       "...                                                 ...     ...  ...    ...   \n",
       "1304                                 Spector, Mr. Woolf    male  NaN      0   \n",
       "1305                       Oliva y Ocana, Dona. Fermina  female 39.0      0   \n",
       "1306                       Saether, Mr. Simon Sivertsen    male 38.5      0   \n",
       "1307                                Ware, Mr. Frederick    male  NaN      0   \n",
       "1308                           Peter, Master. Michael J    male  NaN      1   \n",
       "\n",
       "      Parch  Ticket  Fare Cabin Embarked  \n",
       "0         0       5   7.2   N/A        S  \n",
       "1         0       1  71.3     C        C  \n",
       "2         0       2   7.9   N/A        S  \n",
       "3         0       1  53.1     C        S  \n",
       "4         0       3   8.1   N/A        S  \n",
       "...     ...     ...   ...   ...      ...  \n",
       "1304      0       5   8.1   N/A        S  \n",
       "1305      0       1 108.9     C        C  \n",
       "1306      0       3   7.2   N/A        S  \n",
       "1307      0       3   8.1   N/A        S  \n",
       "1308      1       2  22.4   N/A        C  \n",
       "\n",
       "[1309 rows x 12 columns]"
      ]
     },
     "execution_count": 13,
     "metadata": {},
     "output_type": "execute_result"
    }
   ],
   "source": [
    "df['Cabin'] = df['Cabin'].fillna('N/A')\n",
    "df['Cabin'] = df['Cabin'].apply(lambda x: str(x)[:1] if x != 'N/A' else 'N/A')\n",
    "df\n"
   ]
  },
  {
   "cell_type": "code",
   "execution_count": 15,
   "metadata": {},
   "outputs": [],
   "source": [
    "for_dropping = []\n",
    "for_dropping.extend(df.loc[df['Cabin'] == 'T'].index.to_numpy())\n"
   ]
  },
  {
   "cell_type": "code",
   "execution_count": 19,
   "metadata": {},
   "outputs": [],
   "source": [
    "def define_age_type(age):\n",
    "    if age < 18:\n",
    "        return 'Young'\n",
    "    elif age < 60:\n",
    "        return 'Adult'\n",
    "    else:\n",
    "        return 'Old'\n"
   ]
  },
  {
   "cell_type": "code",
   "execution_count": 20,
   "metadata": {},
   "outputs": [
    {
     "data": {
      "text/plain": [
       "0       Adult\n",
       "1       Adult\n",
       "2       Adult\n",
       "3       Adult\n",
       "4       Adult\n",
       "        ...  \n",
       "1304      Old\n",
       "1305    Adult\n",
       "1306    Adult\n",
       "1307      Old\n",
       "1308      Old\n",
       "Name: Age_type, Length: 1309, dtype: object"
      ]
     },
     "execution_count": 20,
     "metadata": {},
     "output_type": "execute_result"
    }
   ],
   "source": [
    "df['Age_type'] = df['Age'].apply(define_age_type)\n",
    "df['Age_type']\n"
   ]
  },
  {
   "cell_type": "code",
   "execution_count": 21,
   "metadata": {},
   "outputs": [
    {
     "data": {
      "text/plain": [
       "<seaborn.axisgrid.FacetGrid at 0x24a090b2020>"
      ]
     },
     "execution_count": 21,
     "metadata": {},
     "output_type": "execute_result"
    },
    {
     "data": {
      "image/png": "[encoded data removed]",
      "text/plain": [
       "<Figure size 500x500 with 1 Axes>"
      ]
     },
     "metadata": {},
     "output_type": "display_data"
    }
   ],
   "source": [
    "sns.displot(df['Age'])\n",
    "# Looks a bit better\n"
   ]
  },
  {
   "cell_type": "code",
   "execution_count": 22,
   "metadata": {},
   "outputs": [
    {
     "data": {
      "text/plain": [
       "<seaborn.axisgrid.FacetGrid at 0x24a090836a0>"
      ]
     },
     "execution_count": 22,
     "metadata": {},
     "output_type": "execute_result"
    },
    {
     "data": {
      "image/png": "[encoded data removed]",
      "text/plain": [
       "<Figure size 500x500 with 1 Axes>"
      ]
     },
     "metadata": {},
     "output_type": "display_data"
    }
   ],
   "source": [
    "sns.displot(df['SibSp'])\n"
   ]
  },
  {
   "cell_type": "markdown",
   "metadata": {},
   "source": [
    "Preprocessing\n"
   ]
  },
  {
   "cell_type": "code",
   "execution_count": 23,
   "metadata": {},
   "outputs": [
    {
     "name": "stdout",
     "output_type": "stream",
     "text": [
      "<class 'pandas.core.frame.DataFrame'>\n",
      "RangeIndex: 1309 entries, 0 to 1308\n",
      "Data columns (total 13 columns):\n",
      " #   Column       Non-Null Count  Dtype  \n",
      "---  ------       --------------  -----  \n",
      " 0   PassengerId  1309 non-null   int64  \n",
      " 1   Survived     891 non-null    float64\n",
      " 2   Pclass       1309 non-null   int64  \n",
      " 3   Name         1309 non-null   object \n",
      " 4   Sex          1309 non-null   object \n",
      " 5   Age          1046 non-null   float64\n",
      " 6   SibSp        1309 non-null   int64  \n",
      " 7   Parch        1309 non-null   int64  \n",
      " 8   Ticket       1309 non-null   int32  \n",
      " 9   Fare         1308 non-null   float64\n",
      " 10  Cabin        1309 non-null   object \n",
      " 11  Embarked     1307 non-null   object \n",
      " 12  Age_type     1309 non-null   object \n",
      "dtypes: float64(3), int32(1), int64(4), object(5)\n",
      "memory usage: 128.0+ KB\n"
     ]
    }
   ],
   "source": [
    "df.info()\n"
   ]
  },
  {
   "cell_type": "code",
   "execution_count": 24,
   "metadata": {},
   "outputs": [
    {
     "data": {
      "text/html": [
       "<div>\n",
       "<style scoped>\n",
       "    .dataframe tbody tr th:only-of-type {\n",
       "        vertical-align: middle;\n",
       "    }\n",
       "\n",
       "    .dataframe tbody tr th {\n",
       "        vertical-align: top;\n",
       "    }\n",
       "\n",
       "    .dataframe thead th {\n",
       "        text-align: right;\n",
       "    }\n",
       "</style>\n",
       "<table border=\"1\" class=\"dataframe\">\n",
       "  <thead>\n",
       "    <tr style=\"text-align: right;\">\n",
       "      <th></th>\n",
       "      <th>PassengerId</th>\n",
       "      <th>Survived</th>\n",
       "      <th>Pclass</th>\n",
       "      <th>Age</th>\n",
       "      <th>SibSp</th>\n",
       "      <th>Parch</th>\n",
       "      <th>Ticket</th>\n",
       "      <th>Fare</th>\n",
       "    </tr>\n",
       "  </thead>\n",
       "  <tbody>\n",
       "    <tr>\n",
       "      <th>count</th>\n",
       "      <td>1309.0</td>\n",
       "      <td>891.0</td>\n",
       "      <td>1309.0</td>\n",
       "      <td>1046.0</td>\n",
       "      <td>1309.0</td>\n",
       "      <td>1309.0</td>\n",
       "      <td>1309.0</td>\n",
       "      <td>1308.0</td>\n",
       "    </tr>\n",
       "    <tr>\n",
       "      <th>mean</th>\n",
       "      <td>655.0</td>\n",
       "      <td>0.4</td>\n",
       "      <td>2.3</td>\n",
       "      <td>29.9</td>\n",
       "      <td>0.5</td>\n",
       "      <td>0.4</td>\n",
       "      <td>2.4</td>\n",
       "      <td>33.3</td>\n",
       "    </tr>\n",
       "    <tr>\n",
       "      <th>std</th>\n",
       "      <td>378.0</td>\n",
       "      <td>0.5</td>\n",
       "      <td>0.8</td>\n",
       "      <td>14.4</td>\n",
       "      <td>1.0</td>\n",
       "      <td>0.9</td>\n",
       "      <td>1.3</td>\n",
       "      <td>51.8</td>\n",
       "    </tr>\n",
       "    <tr>\n",
       "      <th>min</th>\n",
       "      <td>1.0</td>\n",
       "      <td>0.0</td>\n",
       "      <td>1.0</td>\n",
       "      <td>0.2</td>\n",
       "      <td>0.0</td>\n",
       "      <td>0.0</td>\n",
       "      <td>0.0</td>\n",
       "      <td>0.0</td>\n",
       "    </tr>\n",
       "    <tr>\n",
       "      <th>25%</th>\n",
       "      <td>328.0</td>\n",
       "      <td>0.0</td>\n",
       "      <td>2.0</td>\n",
       "      <td>21.0</td>\n",
       "      <td>0.0</td>\n",
       "      <td>0.0</td>\n",
       "      <td>1.0</td>\n",
       "      <td>7.9</td>\n",
       "    </tr>\n",
       "    <tr>\n",
       "      <th>50%</th>\n",
       "      <td>655.0</td>\n",
       "      <td>0.0</td>\n",
       "      <td>3.0</td>\n",
       "      <td>28.0</td>\n",
       "      <td>0.0</td>\n",
       "      <td>0.0</td>\n",
       "      <td>2.0</td>\n",
       "      <td>14.5</td>\n",
       "    </tr>\n",
       "    <tr>\n",
       "      <th>75%</th>\n",
       "      <td>982.0</td>\n",
       "      <td>1.0</td>\n",
       "      <td>3.0</td>\n",
       "      <td>39.0</td>\n",
       "      <td>1.0</td>\n",
       "      <td>0.0</td>\n",
       "      <td>3.0</td>\n",
       "      <td>31.3</td>\n",
       "    </tr>\n",
       "    <tr>\n",
       "      <th>max</th>\n",
       "      <td>1309.0</td>\n",
       "      <td>1.0</td>\n",
       "      <td>3.0</td>\n",
       "      <td>80.0</td>\n",
       "      <td>8.0</td>\n",
       "      <td>9.0</td>\n",
       "      <td>9.0</td>\n",
       "      <td>512.3</td>\n",
       "    </tr>\n",
       "  </tbody>\n",
       "</table>\n",
       "</div>"
      ],
      "text/plain": [
       "       PassengerId  Survived  Pclass    Age  SibSp  Parch  Ticket   Fare\n",
       "count       1309.0     891.0  1309.0 1046.0 1309.0 1309.0  1309.0 1308.0\n",
       "mean         655.0       0.4     2.3   29.9    0.5    0.4     2.4   33.3\n",
       "std          378.0       0.5     0.8   14.4    1.0    0.9     1.3   51.8\n",
       "min            1.0       0.0     1.0    0.2    0.0    0.0     0.0    0.0\n",
       "25%          328.0       0.0     2.0   21.0    0.0    0.0     1.0    7.9\n",
       "50%          655.0       0.0     3.0   28.0    0.0    0.0     2.0   14.5\n",
       "75%          982.0       1.0     3.0   39.0    1.0    0.0     3.0   31.3\n",
       "max         1309.0       1.0     3.0   80.0    8.0    9.0     9.0  512.3"
      ]
     },
     "execution_count": 24,
     "metadata": {},
     "output_type": "execute_result"
    }
   ],
   "source": [
    "df.describe()\n"
   ]
  },
  {
   "cell_type": "code",
   "execution_count": 25,
   "metadata": {},
   "outputs": [],
   "source": [
    "# We see the min and max of the Age, SibSp, and Fare are highly different\n",
    "# from the average value.\n"
   ]
  },
  {
   "cell_type": "code",
   "execution_count": 26,
   "metadata": {},
   "outputs": [
    {
     "data": {
      "text/plain": [
       "<seaborn.axisgrid.FacetGrid at 0x24a090b1f60>"
      ]
     },
     "execution_count": 26,
     "metadata": {},
     "output_type": "execute_result"
    },
    {
     "data": {
      "image/png": "[encoded data removed]",
      "text/plain": [
       "<Figure size 500x500 with 1 Axes>"
      ]
     },
     "metadata": {},
     "output_type": "display_data"
    }
   ],
   "source": [
    "sns.displot(df['Age'])\n"
   ]
  },
  {
   "cell_type": "code",
   "execution_count": 27,
   "metadata": {},
   "outputs": [
    {
     "data": {
      "text/plain": [
       "<AxesSubplot: >"
      ]
     },
     "execution_count": 27,
     "metadata": {},
     "output_type": "execute_result"
    },
    {
     "data": {
      "image/png": "[encoded data removed]",
      "text/plain": [
       "<Figure size 640x480 with 1 Axes>"
      ]
     },
     "metadata": {},
     "output_type": "display_data"
    }
   ],
   "source": [
    "sns.boxplot(df['Age'])\n",
    "\n",
    "# I'll combine people above 65 age old in one group\n"
   ]
  },
  {
   "cell_type": "code",
   "execution_count": 28,
   "metadata": {},
   "outputs": [],
   "source": [
    "df.loc[df['Age'] > 65, 'Age'] = df.loc[df['Age'] > 65, 'Age'].mean()\n"
   ]
  },
  {
   "cell_type": "code",
   "execution_count": 29,
   "metadata": {},
   "outputs": [
    {
     "data": {
      "text/plain": [
       "<seaborn.axisgrid.FacetGrid at 0x24a0915b280>"
      ]
     },
     "execution_count": 29,
     "metadata": {},
     "output_type": "execute_result"
    },
    {
     "data": {
      "image/png": "[encoded data removed]",
      "text/plain": [
       "<Figure size 500x500 with 1 Axes>"
      ]
     },
     "metadata": {},
     "output_type": "display_data"
    }
   ],
   "source": [
    "sns.displot(df['Age'])\n",
    "\n",
    "# Looks a bit better\n"
   ]
  },
  {
   "cell_type": "code",
   "execution_count": 30,
   "metadata": {},
   "outputs": [
    {
     "data": {
      "text/plain": [
       "<seaborn.axisgrid.FacetGrid at 0x24a0c481930>"
      ]
     },
     "execution_count": 30,
     "metadata": {},
     "output_type": "execute_result"
    },
    {
     "data": {
      "image/png": "[encoded data removed]",
      "text/plain": [
       "<Figure size 500x500 with 1 Axes>"
      ]
     },
     "metadata": {},
     "output_type": "display_data"
    }
   ],
   "source": [
    "sns.displot(df['SibSp'])\n"
   ]
  },
  {
   "cell_type": "code",
   "execution_count": 31,
   "metadata": {},
   "outputs": [
    {
     "data": {
      "text/plain": [
       "<AxesSubplot: xlabel='Parch', ylabel='Age'>"
      ]
     },
     "execution_count": 31,
     "metadata": {},
     "output_type": "execute_result"
    },
    {
     "data": {
      "image/png": "[encoded data removed]",
      "text/plain": [
       "<Figure size 640x480 with 1 Axes>"
      ]
     },
     "metadata": {},
     "output_type": "display_data"
    }
   ],
   "source": [
    "sns.histplot(data=df,\n",
    "             x='Parch',\n",
    "             y='Age',\n",
    "             multiple='stack',\n",
    "             shrink=0.5)\n"
   ]
  },
  {
   "cell_type": "code",
   "execution_count": 32,
   "metadata": {},
   "outputs": [
    {
     "name": "stdout",
     "output_type": "stream",
     "text": [
      "<class 'pandas.core.frame.DataFrame'>\n",
      "RangeIndex: 1309 entries, 0 to 1308\n",
      "Data columns (total 13 columns):\n",
      " #   Column       Non-Null Count  Dtype  \n",
      "---  ------       --------------  -----  \n",
      " 0   PassengerId  1309 non-null   int64  \n",
      " 1   Survived     891 non-null    float64\n",
      " 2   Pclass       1309 non-null   int64  \n",
      " 3   Name         1309 non-null   object \n",
      " 4   Sex          1309 non-null   object \n",
      " 5   Age          1046 non-null   float64\n",
      " 6   SibSp        1309 non-null   int64  \n",
      " 7   Parch        1309 non-null   int64  \n",
      " 8   Ticket       1309 non-null   int32  \n",
      " 9   Fare         1308 non-null   float64\n",
      " 10  Cabin        1309 non-null   object \n",
      " 11  Embarked     1307 non-null   object \n",
      " 12  Age_type     1309 non-null   object \n",
      "dtypes: float64(3), int32(1), int64(4), object(5)\n",
      "memory usage: 128.0+ KB\n"
     ]
    }
   ],
   "source": [
    "df.info()\n"
   ]
  },
  {
   "cell_type": "code",
   "execution_count": 44,
   "metadata": {},
   "outputs": [
    {
     "data": {
      "text/plain": [
       "count   53.0\n",
       "mean     5.5\n",
       "std      4.2\n",
       "min      0.3\n",
       "25%      2.0\n",
       "50%      4.0\n",
       "75%      9.0\n",
       "max     14.5\n",
       "Name: Age, dtype: float64"
      ]
     },
     "execution_count": 44,
     "metadata": {},
     "output_type": "execute_result"
    }
   ],
   "source": [
    "df.loc[df['Name'].apply(lambda x: 'Master' in x), 'Age'].describe()\n"
   ]
  },
  {
   "cell_type": "code",
   "execution_count": 46,
   "metadata": {},
   "outputs": [
    {
     "data": {
      "text/html": [
       "<div>\n",
       "<style scoped>\n",
       "    .dataframe tbody tr th:only-of-type {\n",
       "        vertical-align: middle;\n",
       "    }\n",
       "\n",
       "    .dataframe tbody tr th {\n",
       "        vertical-align: top;\n",
       "    }\n",
       "\n",
       "    .dataframe thead th {\n",
       "        text-align: right;\n",
       "    }\n",
       "</style>\n",
       "<table border=\"1\" class=\"dataframe\">\n",
       "  <thead>\n",
       "    <tr style=\"text-align: right;\">\n",
       "      <th></th>\n",
       "      <th>Name</th>\n",
       "    </tr>\n",
       "  </thead>\n",
       "  <tbody>\n",
       "    <tr>\n",
       "      <th>7</th>\n",
       "      <td>Palsson, Master. Gosta Leonard</td>\n",
       "    </tr>\n",
       "    <tr>\n",
       "      <th>9</th>\n",
       "      <td>Nasser, Mrs. Nicholas (Adele Achem)</td>\n",
       "    </tr>\n",
       "    <tr>\n",
       "      <th>10</th>\n",
       "      <td>Sandstrom, Miss. Marguerite Rut</td>\n",
       "    </tr>\n",
       "    <tr>\n",
       "      <th>14</th>\n",
       "      <td>Vestrom, Miss. Hulda Amanda Adolfina</td>\n",
       "    </tr>\n",
       "    <tr>\n",
       "      <th>16</th>\n",
       "      <td>Rice, Master. Eugene</td>\n",
       "    </tr>\n",
       "    <tr>\n",
       "      <th>...</th>\n",
       "      <td>...</td>\n",
       "    </tr>\n",
       "    <tr>\n",
       "      <th>1251</th>\n",
       "      <td>Sage, Master. William Henry</td>\n",
       "    </tr>\n",
       "    <tr>\n",
       "      <th>1270</th>\n",
       "      <td>Asplund, Master. Carl Edgar</td>\n",
       "    </tr>\n",
       "    <tr>\n",
       "      <th>1280</th>\n",
       "      <td>Palsson, Master. Paul Folke</td>\n",
       "    </tr>\n",
       "    <tr>\n",
       "      <th>1283</th>\n",
       "      <td>Abbott, Master. Eugene Joseph</td>\n",
       "    </tr>\n",
       "    <tr>\n",
       "      <th>1300</th>\n",
       "      <td>Peacock, Miss. Treasteall</td>\n",
       "    </tr>\n",
       "  </tbody>\n",
       "</table>\n",
       "<p>115 rows × 1 columns</p>\n",
       "</div>"
      ],
      "text/plain": [
       "                                      Name\n",
       "7           Palsson, Master. Gosta Leonard\n",
       "9      Nasser, Mrs. Nicholas (Adele Achem)\n",
       "10         Sandstrom, Miss. Marguerite Rut\n",
       "14    Vestrom, Miss. Hulda Amanda Adolfina\n",
       "16                    Rice, Master. Eugene\n",
       "...                                    ...\n",
       "1251           Sage, Master. William Henry\n",
       "1270           Asplund, Master. Carl Edgar\n",
       "1280           Palsson, Master. Paul Folke\n",
       "1283         Abbott, Master. Eugene Joseph\n",
       "1300             Peacock, Miss. Treasteall\n",
       "\n",
       "[115 rows x 1 columns]"
      ]
     },
     "execution_count": 46,
     "metadata": {},
     "output_type": "execute_result"
    }
   ],
   "source": [
    "df.loc[df['Age'] < 16, ['Name']]\n"
   ]
  },
  {
   "cell_type": "code",
   "execution_count": 133,
   "metadata": {},
   "outputs": [
    {
     "data": {
      "text/plain": [
       "<AxesSubplot: xlabel='Parch', ylabel='Age'>"
      ]
     },
     "execution_count": 133,
     "metadata": {},
     "output_type": "execute_result"
    },
    {
     "data": {
      "image/png": "[encoded data removed]",
      "text/plain": [
       "<Figure size 640x480 with 1 Axes>"
      ]
     },
     "metadata": {},
     "output_type": "display_data"
    }
   ],
   "source": [
    "sns.histplot(data=df,\n",
    "             x='Parch',\n",
    "             y='Age',\n",
    "             multiple='stack',\n",
    "             shrink=0.5)\n"
   ]
  },
  {
   "cell_type": "code",
   "execution_count": 134,
   "metadata": {},
   "outputs": [
    {
     "data": {
      "text/plain": [
       "<AxesSubplot: xlabel='Parch', ylabel='Age'>"
      ]
     },
     "execution_count": 134,
     "metadata": {},
     "output_type": "execute_result"
    },
    {
     "data": {
      "image/png": "[encoded data removed]",
      "text/plain": [
       "<Figure size 640x480 with 1 Axes>"
      ]
     },
     "metadata": {},
     "output_type": "display_data"
    }
   ],
   "source": [
    "sns.histplot(data=df.loc[df['Parch'] >= 1],\n",
    "             x='Parch',\n",
    "             y='Age',\n",
    "             hue='Survived',\n",
    "             multiple='stack',\n",
    "             shrink=0.5)\n"
   ]
  },
  {
   "cell_type": "code",
   "execution_count": 135,
   "metadata": {},
   "outputs": [
    {
     "data": {
      "text/plain": [
       "<AxesSubplot: xlabel='SibSp', ylabel='Age'>"
      ]
     },
     "execution_count": 135,
     "metadata": {},
     "output_type": "execute_result"
    },
    {
     "data": {
      "image/png": "[encoded data removed]",
      "text/plain": [
       "<Figure size 640x480 with 1 Axes>"
      ]
     },
     "metadata": {},
     "output_type": "display_data"
    }
   ],
   "source": [
    "sns.histplot(data=df,\n",
    "             x='SibSp',\n",
    "             y='Age',\n",
    "             multiple='stack',\n",
    "             shrink=0.5)\n"
   ]
  },
  {
   "cell_type": "code",
   "execution_count": 136,
   "metadata": {},
   "outputs": [
    {
     "data": {
      "text/plain": [
       "<AxesSubplot: xlabel='Pclass', ylabel='Fare'>"
      ]
     },
     "execution_count": 136,
     "metadata": {},
     "output_type": "execute_result"
    },
    {
     "data": {
      "image/png": "[encoded data removed]",
      "text/plain": [
       "<Figure size 640x480 with 1 Axes>"
      ]
     },
     "metadata": {},
     "output_type": "display_data"
    }
   ],
   "source": [
    "sns.histplot(data=df.loc[(df['Survived'] == 0) & (df['Fare'] < 100)],\n",
    "             x='Pclass',\n",
    "             y='Fare',\n",
    "             hue='Survived',\n",
    "             multiple='stack',\n",
    "             shrink=0.5)\n"
   ]
  },
  {
   "cell_type": "code",
   "execution_count": 137,
   "metadata": {},
   "outputs": [
    {
     "data": {
      "text/plain": [
       "<AxesSubplot: xlabel='Pclass', ylabel='Fare'>"
      ]
     },
     "execution_count": 137,
     "metadata": {},
     "output_type": "execute_result"
    },
    {
     "data": {
      "image/png": "[encoded data removed]",
      "text/plain": [
       "<Figure size 640x480 with 1 Axes>"
      ]
     },
     "metadata": {},
     "output_type": "display_data"
    }
   ],
   "source": [
    "sns.histplot(data=df.loc[(df['Fare'] < 100)],\n",
    "             x='Pclass',\n",
    "             y='Fare',\n",
    "             hue='Survived',\n",
    "             multiple='stack',\n",
    "             shrink=0.5)\n"
   ]
  },
  {
   "cell_type": "code",
   "execution_count": 139,
   "metadata": {},
   "outputs": [
    {
     "data": {
      "text/plain": [
       "<AxesSubplot: xlabel='Pclass', ylabel='Fare'>"
      ]
     },
     "execution_count": 139,
     "metadata": {},
     "output_type": "execute_result"
    },
    {
     "data": {
      "image/png": "[encoded data removed]",
      "text/plain": [
       "<Figure size 640x480 with 1 Axes>"
      ]
     },
     "metadata": {},
     "output_type": "display_data"
    }
   ],
   "source": [
    "sns.histplot(data=df,\n",
    "             x='Pclass',\n",
    "             y='Fare',\n",
    "             hue='Survived',\n",
    "             multiple='stack',\n",
    "             shrink=0.5)\n"
   ]
  },
  {
   "cell_type": "code",
   "execution_count": 140,
   "metadata": {},
   "outputs": [
    {
     "data": {
      "text/plain": [
       "<AxesSubplot: xlabel='SibSp', ylabel='Age'>"
      ]
     },
     "execution_count": 140,
     "metadata": {},
     "output_type": "execute_result"
    },
    {
     "data": {
      "image/png": "[encoded data removed]",
      "text/plain": [
       "<Figure size 640x480 with 1 Axes>"
      ]
     },
     "metadata": {},
     "output_type": "display_data"
    }
   ],
   "source": [
    "sns.histplot(data=df.loc[df['SibSp'] >= 1],\n",
    "             x='SibSp',\n",
    "             y='Age',\n",
    "             hue='Survived',\n",
    "             multiple='stack',\n",
    "             shrink=0.5)\n"
   ]
  },
  {
   "cell_type": "code",
   "execution_count": 141,
   "metadata": {},
   "outputs": [],
   "source": [
    "df.loc[(df['Parch'] == 0), 'Parch'] = 0\n",
    "df.loc[(df['Parch'] > 0) & (df['Parch'] < 3), 'Parch'] = 1\n",
    "df.loc[df['Parch'] >= 3, 'Parch'] = 2\n"
   ]
  },
  {
   "cell_type": "code",
   "execution_count": 142,
   "metadata": {},
   "outputs": [],
   "source": [
    "# Let's cateforize SivSp in three categories:\n",
    "# 0 - no siblings and spouses,\n",
    "# 1 - 1-2 siblings or spouses\n",
    "# 2 - more than 3 siblings or spouses\n",
    "df.loc[(df['SibSp'] == 0), 'SibSp'] = 0\n",
    "df.loc[(df['SibSp'] > 0) & (df['SibSp'] < 3), 'SibSp'] = 1\n",
    "df.loc[df['SibSp'] >= 3, 'SibSp'] = 2\n"
   ]
  },
  {
   "cell_type": "code",
   "execution_count": 143,
   "metadata": {},
   "outputs": [
    {
     "data": {
      "text/plain": [
       "array([1, 0, 2], dtype=int64)"
      ]
     },
     "execution_count": 143,
     "metadata": {},
     "output_type": "execute_result"
    }
   ],
   "source": [
    "df['SibSp'].unique()\n"
   ]
  },
  {
   "cell_type": "code",
   "execution_count": 144,
   "metadata": {},
   "outputs": [
    {
     "data": {
      "text/plain": [
       "<seaborn.axisgrid.FacetGrid at 0x1e46615c0d0>"
      ]
     },
     "execution_count": 144,
     "metadata": {},
     "output_type": "execute_result"
    },
    {
     "data": {
      "image/png": "[encoded data removed]",
      "text/plain": [
       "<Figure size 500x500 with 1 Axes>"
      ]
     },
     "metadata": {},
     "output_type": "display_data"
    }
   ],
   "source": [
    "sns.displot(data=df.loc[df['Age'].isna()]['Fare'])\n"
   ]
  },
  {
   "cell_type": "code",
   "execution_count": 145,
   "metadata": {},
   "outputs": [],
   "source": [
    "# Let's replace nan values in the Embark column with mode values\n",
    "\n",
    "from sklearn.impute import SimpleImputer\n",
    "\n",
    "imp_mean = SimpleImputer(missing_values=np.nan, strategy='most_frequent')\n",
    "df[['Embarked']] = imp_mean.fit_transform(df[['Embarked']])\n"
   ]
  },
  {
   "cell_type": "code",
   "execution_count": 146,
   "metadata": {},
   "outputs": [],
   "source": [
    "def test_independence(col1: pd.Series, col2: pd.Series):\n",
    "    \"\"\"\n",
    "        Function test that categorical col1 and col2 are independent\n",
    "    \"\"\"\n",
    "    cross_tab = pd.crosstab(index=col1, columns=col2)\n",
    "    res = chi2_contingency(cross_tab)\n",
    "    if res[1] > 0.05:\n",
    "        return True\n",
    "    else:\n",
    "        return False\n"
   ]
  },
  {
   "cell_type": "code",
   "execution_count": 147,
   "metadata": {},
   "outputs": [
    {
     "name": "stdout",
     "output_type": "stream",
     "text": [
      "Pclass is independent to y? False\n",
      "Sex is independent to y? False\n",
      "Embarked is independent to y? False\n",
      "SibSp is independent to y? False\n",
      "Cabin is independent to y? False\n"
     ]
    }
   ],
   "source": [
    "cat_columns = ['Pclass', 'Sex', 'Embarked', 'SibSp', 'Cabin']\n",
    "\n",
    "for cat in cat_columns:\n",
    "    print(cat, 'is independent to y?', test_independence(df[cat], y))\n"
   ]
  },
  {
   "cell_type": "code",
   "execution_count": 148,
   "metadata": {},
   "outputs": [
    {
     "data": {
      "text/plain": [
       "Index(['PassengerId', 'Survived', 'Pclass', 'Name', 'Sex', 'Age', 'SibSp',\n",
       "       'Parch', 'Ticket', 'Fare', 'Cabin', 'Embarked', 'Age_type'],\n",
       "      dtype='object')"
      ]
     },
     "execution_count": 148,
     "metadata": {},
     "output_type": "execute_result"
    }
   ],
   "source": [
    "df.columns\n"
   ]
  },
  {
   "cell_type": "code",
   "execution_count": 149,
   "metadata": {},
   "outputs": [],
   "source": [
    "def use_ohe(df, features):\n",
    "    df_local = pd.DataFrame()\n",
    "    for feature in features:\n",
    "        ohe = preprocessing.OneHotEncoder()\n",
    "        transformed = ohe.fit_transform(df[[feature]])\n",
    "        df_local[ohe.get_feature_names_out()] = transformed.toarray()\n",
    "    return df_local\n"
   ]
  },
  {
   "cell_type": "code",
   "execution_count": 150,
   "metadata": {},
   "outputs": [
    {
     "data": {
      "text/html": [
       "<div>\n",
       "<style scoped>\n",
       "    .dataframe tbody tr th:only-of-type {\n",
       "        vertical-align: middle;\n",
       "    }\n",
       "\n",
       "    .dataframe tbody tr th {\n",
       "        vertical-align: top;\n",
       "    }\n",
       "\n",
       "    .dataframe thead th {\n",
       "        text-align: right;\n",
       "    }\n",
       "</style>\n",
       "<table border=\"1\" class=\"dataframe\">\n",
       "  <thead>\n",
       "    <tr style=\"text-align: right;\">\n",
       "      <th></th>\n",
       "      <th>Sex</th>\n",
       "      <th>Age</th>\n",
       "      <th>Pclass_1</th>\n",
       "      <th>Pclass_2</th>\n",
       "      <th>Pclass_3</th>\n",
       "      <th>Embarked_C</th>\n",
       "      <th>Embarked_Q</th>\n",
       "      <th>Embarked_S</th>\n",
       "      <th>SibSp_0</th>\n",
       "      <th>SibSp_1</th>\n",
       "      <th>...</th>\n",
       "      <th>Cabin_C</th>\n",
       "      <th>Cabin_D</th>\n",
       "      <th>Cabin_E</th>\n",
       "      <th>Cabin_F</th>\n",
       "      <th>Cabin_G</th>\n",
       "      <th>Cabin_N/A</th>\n",
       "      <th>Cabin_T</th>\n",
       "      <th>Age_type_Adult</th>\n",
       "      <th>Age_type_Old</th>\n",
       "      <th>Age_type_Young</th>\n",
       "    </tr>\n",
       "  </thead>\n",
       "  <tbody>\n",
       "    <tr>\n",
       "      <th>0</th>\n",
       "      <td>1</td>\n",
       "      <td>22.0</td>\n",
       "      <td>0.0</td>\n",
       "      <td>0.0</td>\n",
       "      <td>1.0</td>\n",
       "      <td>0.0</td>\n",
       "      <td>0.0</td>\n",
       "      <td>1.0</td>\n",
       "      <td>0.0</td>\n",
       "      <td>1.0</td>\n",
       "      <td>...</td>\n",
       "      <td>0.0</td>\n",
       "      <td>0.0</td>\n",
       "      <td>0.0</td>\n",
       "      <td>0.0</td>\n",
       "      <td>0.0</td>\n",
       "      <td>1.0</td>\n",
       "      <td>0.0</td>\n",
       "      <td>1.0</td>\n",
       "      <td>0.0</td>\n",
       "      <td>0.0</td>\n",
       "    </tr>\n",
       "    <tr>\n",
       "      <th>1</th>\n",
       "      <td>0</td>\n",
       "      <td>38.0</td>\n",
       "      <td>1.0</td>\n",
       "      <td>0.0</td>\n",
       "      <td>0.0</td>\n",
       "      <td>1.0</td>\n",
       "      <td>0.0</td>\n",
       "      <td>0.0</td>\n",
       "      <td>0.0</td>\n",
       "      <td>1.0</td>\n",
       "      <td>...</td>\n",
       "      <td>1.0</td>\n",
       "      <td>0.0</td>\n",
       "      <td>0.0</td>\n",
       "      <td>0.0</td>\n",
       "      <td>0.0</td>\n",
       "      <td>0.0</td>\n",
       "      <td>0.0</td>\n",
       "      <td>1.0</td>\n",
       "      <td>0.0</td>\n",
       "      <td>0.0</td>\n",
       "    </tr>\n",
       "    <tr>\n",
       "      <th>2</th>\n",
       "      <td>0</td>\n",
       "      <td>26.0</td>\n",
       "      <td>0.0</td>\n",
       "      <td>0.0</td>\n",
       "      <td>1.0</td>\n",
       "      <td>0.0</td>\n",
       "      <td>0.0</td>\n",
       "      <td>1.0</td>\n",
       "      <td>1.0</td>\n",
       "      <td>0.0</td>\n",
       "      <td>...</td>\n",
       "      <td>0.0</td>\n",
       "      <td>0.0</td>\n",
       "      <td>0.0</td>\n",
       "      <td>0.0</td>\n",
       "      <td>0.0</td>\n",
       "      <td>1.0</td>\n",
       "      <td>0.0</td>\n",
       "      <td>1.0</td>\n",
       "      <td>0.0</td>\n",
       "      <td>0.0</td>\n",
       "    </tr>\n",
       "    <tr>\n",
       "      <th>3</th>\n",
       "      <td>0</td>\n",
       "      <td>35.0</td>\n",
       "      <td>1.0</td>\n",
       "      <td>0.0</td>\n",
       "      <td>0.0</td>\n",
       "      <td>0.0</td>\n",
       "      <td>0.0</td>\n",
       "      <td>1.0</td>\n",
       "      <td>0.0</td>\n",
       "      <td>1.0</td>\n",
       "      <td>...</td>\n",
       "      <td>1.0</td>\n",
       "      <td>0.0</td>\n",
       "      <td>0.0</td>\n",
       "      <td>0.0</td>\n",
       "      <td>0.0</td>\n",
       "      <td>0.0</td>\n",
       "      <td>0.0</td>\n",
       "      <td>1.0</td>\n",
       "      <td>0.0</td>\n",
       "      <td>0.0</td>\n",
       "    </tr>\n",
       "    <tr>\n",
       "      <th>4</th>\n",
       "      <td>1</td>\n",
       "      <td>35.0</td>\n",
       "      <td>0.0</td>\n",
       "      <td>0.0</td>\n",
       "      <td>1.0</td>\n",
       "      <td>0.0</td>\n",
       "      <td>0.0</td>\n",
       "      <td>1.0</td>\n",
       "      <td>1.0</td>\n",
       "      <td>0.0</td>\n",
       "      <td>...</td>\n",
       "      <td>0.0</td>\n",
       "      <td>0.0</td>\n",
       "      <td>0.0</td>\n",
       "      <td>0.0</td>\n",
       "      <td>0.0</td>\n",
       "      <td>1.0</td>\n",
       "      <td>0.0</td>\n",
       "      <td>1.0</td>\n",
       "      <td>0.0</td>\n",
       "      <td>0.0</td>\n",
       "    </tr>\n",
       "    <tr>\n",
       "      <th>...</th>\n",
       "      <td>...</td>\n",
       "      <td>...</td>\n",
       "      <td>...</td>\n",
       "      <td>...</td>\n",
       "      <td>...</td>\n",
       "      <td>...</td>\n",
       "      <td>...</td>\n",
       "      <td>...</td>\n",
       "      <td>...</td>\n",
       "      <td>...</td>\n",
       "      <td>...</td>\n",
       "      <td>...</td>\n",
       "      <td>...</td>\n",
       "      <td>...</td>\n",
       "      <td>...</td>\n",
       "      <td>...</td>\n",
       "      <td>...</td>\n",
       "      <td>...</td>\n",
       "      <td>...</td>\n",
       "      <td>...</td>\n",
       "      <td>...</td>\n",
       "    </tr>\n",
       "    <tr>\n",
       "      <th>1304</th>\n",
       "      <td>1</td>\n",
       "      <td>NaN</td>\n",
       "      <td>0.0</td>\n",
       "      <td>0.0</td>\n",
       "      <td>1.0</td>\n",
       "      <td>0.0</td>\n",
       "      <td>0.0</td>\n",
       "      <td>1.0</td>\n",
       "      <td>1.0</td>\n",
       "      <td>0.0</td>\n",
       "      <td>...</td>\n",
       "      <td>0.0</td>\n",
       "      <td>0.0</td>\n",
       "      <td>0.0</td>\n",
       "      <td>0.0</td>\n",
       "      <td>0.0</td>\n",
       "      <td>1.0</td>\n",
       "      <td>0.0</td>\n",
       "      <td>0.0</td>\n",
       "      <td>1.0</td>\n",
       "      <td>0.0</td>\n",
       "    </tr>\n",
       "    <tr>\n",
       "      <th>1305</th>\n",
       "      <td>0</td>\n",
       "      <td>39.0</td>\n",
       "      <td>1.0</td>\n",
       "      <td>0.0</td>\n",
       "      <td>0.0</td>\n",
       "      <td>1.0</td>\n",
       "      <td>0.0</td>\n",
       "      <td>0.0</td>\n",
       "      <td>1.0</td>\n",
       "      <td>0.0</td>\n",
       "      <td>...</td>\n",
       "      <td>1.0</td>\n",
       "      <td>0.0</td>\n",
       "      <td>0.0</td>\n",
       "      <td>0.0</td>\n",
       "      <td>0.0</td>\n",
       "      <td>0.0</td>\n",
       "      <td>0.0</td>\n",
       "      <td>1.0</td>\n",
       "      <td>0.0</td>\n",
       "      <td>0.0</td>\n",
       "    </tr>\n",
       "    <tr>\n",
       "      <th>1306</th>\n",
       "      <td>1</td>\n",
       "      <td>38.5</td>\n",
       "      <td>0.0</td>\n",
       "      <td>0.0</td>\n",
       "      <td>1.0</td>\n",
       "      <td>0.0</td>\n",
       "      <td>0.0</td>\n",
       "      <td>1.0</td>\n",
       "      <td>1.0</td>\n",
       "      <td>0.0</td>\n",
       "      <td>...</td>\n",
       "      <td>0.0</td>\n",
       "      <td>0.0</td>\n",
       "      <td>0.0</td>\n",
       "      <td>0.0</td>\n",
       "      <td>0.0</td>\n",
       "      <td>1.0</td>\n",
       "      <td>0.0</td>\n",
       "      <td>1.0</td>\n",
       "      <td>0.0</td>\n",
       "      <td>0.0</td>\n",
       "    </tr>\n",
       "    <tr>\n",
       "      <th>1307</th>\n",
       "      <td>1</td>\n",
       "      <td>NaN</td>\n",
       "      <td>0.0</td>\n",
       "      <td>0.0</td>\n",
       "      <td>1.0</td>\n",
       "      <td>0.0</td>\n",
       "      <td>0.0</td>\n",
       "      <td>1.0</td>\n",
       "      <td>1.0</td>\n",
       "      <td>0.0</td>\n",
       "      <td>...</td>\n",
       "      <td>0.0</td>\n",
       "      <td>0.0</td>\n",
       "      <td>0.0</td>\n",
       "      <td>0.0</td>\n",
       "      <td>0.0</td>\n",
       "      <td>1.0</td>\n",
       "      <td>0.0</td>\n",
       "      <td>0.0</td>\n",
       "      <td>1.0</td>\n",
       "      <td>0.0</td>\n",
       "    </tr>\n",
       "    <tr>\n",
       "      <th>1308</th>\n",
       "      <td>1</td>\n",
       "      <td>NaN</td>\n",
       "      <td>0.0</td>\n",
       "      <td>0.0</td>\n",
       "      <td>1.0</td>\n",
       "      <td>1.0</td>\n",
       "      <td>0.0</td>\n",
       "      <td>0.0</td>\n",
       "      <td>0.0</td>\n",
       "      <td>1.0</td>\n",
       "      <td>...</td>\n",
       "      <td>0.0</td>\n",
       "      <td>0.0</td>\n",
       "      <td>0.0</td>\n",
       "      <td>0.0</td>\n",
       "      <td>0.0</td>\n",
       "      <td>1.0</td>\n",
       "      <td>0.0</td>\n",
       "      <td>0.0</td>\n",
       "      <td>1.0</td>\n",
       "      <td>0.0</td>\n",
       "    </tr>\n",
       "  </tbody>\n",
       "</table>\n",
       "<p>1309 rows × 23 columns</p>\n",
       "</div>"
      ],
      "text/plain": [
       "      Sex  Age  Pclass_1  Pclass_2  Pclass_3  Embarked_C  Embarked_Q  \\\n",
       "0       1 22.0       0.0       0.0       1.0         0.0         0.0   \n",
       "1       0 38.0       1.0       0.0       0.0         1.0         0.0   \n",
       "2       0 26.0       0.0       0.0       1.0         0.0         0.0   \n",
       "3       0 35.0       1.0       0.0       0.0         0.0         0.0   \n",
       "4       1 35.0       0.0       0.0       1.0         0.0         0.0   \n",
       "...   ...  ...       ...       ...       ...         ...         ...   \n",
       "1304    1  NaN       0.0       0.0       1.0         0.0         0.0   \n",
       "1305    0 39.0       1.0       0.0       0.0         1.0         0.0   \n",
       "1306    1 38.5       0.0       0.0       1.0         0.0         0.0   \n",
       "1307    1  NaN       0.0       0.0       1.0         0.0         0.0   \n",
       "1308    1  NaN       0.0       0.0       1.0         1.0         0.0   \n",
       "\n",
       "      Embarked_S  SibSp_0  SibSp_1  ...  Cabin_C  Cabin_D  Cabin_E  Cabin_F  \\\n",
       "0            1.0      0.0      1.0  ...      0.0      0.0      0.0      0.0   \n",
       "1            0.0      0.0      1.0  ...      1.0      0.0      0.0      0.0   \n",
       "2            1.0      1.0      0.0  ...      0.0      0.0      0.0      0.0   \n",
       "3            1.0      0.0      1.0  ...      1.0      0.0      0.0      0.0   \n",
       "4            1.0      1.0      0.0  ...      0.0      0.0      0.0      0.0   \n",
       "...          ...      ...      ...  ...      ...      ...      ...      ...   \n",
       "1304         1.0      1.0      0.0  ...      0.0      0.0      0.0      0.0   \n",
       "1305         0.0      1.0      0.0  ...      1.0      0.0      0.0      0.0   \n",
       "1306         1.0      1.0      0.0  ...      0.0      0.0      0.0      0.0   \n",
       "1307         1.0      1.0      0.0  ...      0.0      0.0      0.0      0.0   \n",
       "1308         0.0      0.0      1.0  ...      0.0      0.0      0.0      0.0   \n",
       "\n",
       "      Cabin_G  Cabin_N/A  Cabin_T  Age_type_Adult  Age_type_Old  \\\n",
       "0         0.0        1.0      0.0             1.0           0.0   \n",
       "1         0.0        0.0      0.0             1.0           0.0   \n",
       "2         0.0        1.0      0.0             1.0           0.0   \n",
       "3         0.0        0.0      0.0             1.0           0.0   \n",
       "4         0.0        1.0      0.0             1.0           0.0   \n",
       "...       ...        ...      ...             ...           ...   \n",
       "1304      0.0        1.0      0.0             0.0           1.0   \n",
       "1305      0.0        0.0      0.0             1.0           0.0   \n",
       "1306      0.0        1.0      0.0             1.0           0.0   \n",
       "1307      0.0        1.0      0.0             0.0           1.0   \n",
       "1308      0.0        1.0      0.0             0.0           1.0   \n",
       "\n",
       "      Age_type_Young  \n",
       "0                0.0  \n",
       "1                0.0  \n",
       "2                0.0  \n",
       "3                0.0  \n",
       "4                0.0  \n",
       "...              ...  \n",
       "1304             0.0  \n",
       "1305             0.0  \n",
       "1306             0.0  \n",
       "1307             0.0  \n",
       "1308             0.0  \n",
       "\n",
       "[1309 rows x 23 columns]"
      ]
     },
     "execution_count": 150,
     "metadata": {},
     "output_type": "execute_result"
    }
   ],
   "source": [
    "for_ohe = ['Pclass', 'Embarked', 'SibSp', 'Cabin', 'Age_type']\n",
    "\n",
    "df_final = pd.concat([df['Sex'].apply(lambda x: int(x == 'male')).copy(),\n",
    "                      df[['Age']].copy(),\n",
    "                      use_ohe(df, for_ohe)],\n",
    "                     axis=1)\n",
    "df_final\n"
   ]
  },
  {
   "cell_type": "code",
   "execution_count": 151,
   "metadata": {},
   "outputs": [],
   "source": [
    "# There are a lot of empty values in the Age column, so I do not want to impute just a mean value\n",
    "# Let's predict this values using Linear Regression\n"
   ]
  },
  {
   "cell_type": "code",
   "execution_count": 152,
   "metadata": {},
   "outputs": [],
   "source": [
    "from sklearn.linear_model import LinearRegression\n",
    "from sklearn.neighbors import KNeighborsRegressor\n",
    "\n",
    "age_features = ['Pclass_1', 'Pclass_2', 'Pclass_3', 'Sex']\n",
    "\n",
    "age_x_train = df_final[~df['Age'].isna()].drop('Age', axis=1)[age_features]\n",
    "age_y_train = df_final[~df['Age'].isna()]['Age']\n",
    "age_x_test = df_final[df['Age'].isna()].drop('Age', axis=1)[age_features]\n",
    "age_y_test = df_final[df['Age'].isna()]['Age']\n",
    "\n",
    "# model = LinearRegression()\n",
    "model = KNeighborsRegressor()\n",
    "\n",
    "model.fit(age_x_train, age_y_train)\n",
    "\n",
    "age_predict = model.predict(age_x_test)\n",
    "df_final.loc[df_final['Age'].isnull(), 'Age'] = age_predict\n"
   ]
  },
  {
   "cell_type": "code",
   "execution_count": 153,
   "metadata": {},
   "outputs": [],
   "source": [
    "# Create categories for Age\n",
    "# df_final.loc[df['Age'] < 3, 'Age'] = 0\n",
    "# df_final.loc[(3 <= df_final['Age']) & (df_final['Age'] < 13), 'Age'] = 1\n",
    "# df_final.loc[(13 <= df_final['Age']) & (df_final['Age'] < 18), 'Age'] = 2\n",
    "# df_final.loc[(18 <= df_final['Age']) & (df_final['Age'] < 30), 'Age'] = 3\n",
    "# df_final.loc[(30 <= df_final['Age']) & (df_final['Age'] < 50), 'Age'] = 4\n",
    "# df_final.loc[(50 <= df_final['Age']), 'Age'] = 5\n",
    "\n",
    "# df_final = pd.concat([df_final, use_ohe(df_final, ['Age'])], axis=1)\n",
    "# df_final.drop(['Age'], axis=1, inplace=True)\n"
   ]
  },
  {
   "cell_type": "code",
   "execution_count": 154,
   "metadata": {},
   "outputs": [
    {
     "data": {
      "text/html": [
       "<div>\n",
       "<style scoped>\n",
       "    .dataframe tbody tr th:only-of-type {\n",
       "        vertical-align: middle;\n",
       "    }\n",
       "\n",
       "    .dataframe tbody tr th {\n",
       "        vertical-align: top;\n",
       "    }\n",
       "\n",
       "    .dataframe thead th {\n",
       "        text-align: right;\n",
       "    }\n",
       "</style>\n",
       "<table border=\"1\" class=\"dataframe\">\n",
       "  <thead>\n",
       "    <tr style=\"text-align: right;\">\n",
       "      <th></th>\n",
       "      <th>Sex</th>\n",
       "      <th>Age</th>\n",
       "      <th>Pclass_1</th>\n",
       "      <th>Pclass_2</th>\n",
       "      <th>Pclass_3</th>\n",
       "      <th>Embarked_C</th>\n",
       "      <th>Embarked_Q</th>\n",
       "      <th>Embarked_S</th>\n",
       "      <th>SibSp_0</th>\n",
       "      <th>SibSp_1</th>\n",
       "      <th>...</th>\n",
       "      <th>Cabin_C</th>\n",
       "      <th>Cabin_D</th>\n",
       "      <th>Cabin_E</th>\n",
       "      <th>Cabin_F</th>\n",
       "      <th>Cabin_G</th>\n",
       "      <th>Cabin_N/A</th>\n",
       "      <th>Cabin_T</th>\n",
       "      <th>Age_type_Adult</th>\n",
       "      <th>Age_type_Old</th>\n",
       "      <th>Age_type_Young</th>\n",
       "    </tr>\n",
       "  </thead>\n",
       "  <tbody>\n",
       "    <tr>\n",
       "      <th>0</th>\n",
       "      <td>1</td>\n",
       "      <td>22.0</td>\n",
       "      <td>0.0</td>\n",
       "      <td>0.0</td>\n",
       "      <td>1.0</td>\n",
       "      <td>0.0</td>\n",
       "      <td>0.0</td>\n",
       "      <td>1.0</td>\n",
       "      <td>0.0</td>\n",
       "      <td>1.0</td>\n",
       "      <td>...</td>\n",
       "      <td>0.0</td>\n",
       "      <td>0.0</td>\n",
       "      <td>0.0</td>\n",
       "      <td>0.0</td>\n",
       "      <td>0.0</td>\n",
       "      <td>1.0</td>\n",
       "      <td>0.0</td>\n",
       "      <td>1.0</td>\n",
       "      <td>0.0</td>\n",
       "      <td>0.0</td>\n",
       "    </tr>\n",
       "    <tr>\n",
       "      <th>1</th>\n",
       "      <td>0</td>\n",
       "      <td>38.0</td>\n",
       "      <td>1.0</td>\n",
       "      <td>0.0</td>\n",
       "      <td>0.0</td>\n",
       "      <td>1.0</td>\n",
       "      <td>0.0</td>\n",
       "      <td>0.0</td>\n",
       "      <td>0.0</td>\n",
       "      <td>1.0</td>\n",
       "      <td>...</td>\n",
       "      <td>1.0</td>\n",
       "      <td>0.0</td>\n",
       "      <td>0.0</td>\n",
       "      <td>0.0</td>\n",
       "      <td>0.0</td>\n",
       "      <td>0.0</td>\n",
       "      <td>0.0</td>\n",
       "      <td>1.0</td>\n",
       "      <td>0.0</td>\n",
       "      <td>0.0</td>\n",
       "    </tr>\n",
       "    <tr>\n",
       "      <th>2</th>\n",
       "      <td>0</td>\n",
       "      <td>26.0</td>\n",
       "      <td>0.0</td>\n",
       "      <td>0.0</td>\n",
       "      <td>1.0</td>\n",
       "      <td>0.0</td>\n",
       "      <td>0.0</td>\n",
       "      <td>1.0</td>\n",
       "      <td>1.0</td>\n",
       "      <td>0.0</td>\n",
       "      <td>...</td>\n",
       "      <td>0.0</td>\n",
       "      <td>0.0</td>\n",
       "      <td>0.0</td>\n",
       "      <td>0.0</td>\n",
       "      <td>0.0</td>\n",
       "      <td>1.0</td>\n",
       "      <td>0.0</td>\n",
       "      <td>1.0</td>\n",
       "      <td>0.0</td>\n",
       "      <td>0.0</td>\n",
       "    </tr>\n",
       "    <tr>\n",
       "      <th>3</th>\n",
       "      <td>0</td>\n",
       "      <td>35.0</td>\n",
       "      <td>1.0</td>\n",
       "      <td>0.0</td>\n",
       "      <td>0.0</td>\n",
       "      <td>0.0</td>\n",
       "      <td>0.0</td>\n",
       "      <td>1.0</td>\n",
       "      <td>0.0</td>\n",
       "      <td>1.0</td>\n",
       "      <td>...</td>\n",
       "      <td>1.0</td>\n",
       "      <td>0.0</td>\n",
       "      <td>0.0</td>\n",
       "      <td>0.0</td>\n",
       "      <td>0.0</td>\n",
       "      <td>0.0</td>\n",
       "      <td>0.0</td>\n",
       "      <td>1.0</td>\n",
       "      <td>0.0</td>\n",
       "      <td>0.0</td>\n",
       "    </tr>\n",
       "    <tr>\n",
       "      <th>4</th>\n",
       "      <td>1</td>\n",
       "      <td>35.0</td>\n",
       "      <td>0.0</td>\n",
       "      <td>0.0</td>\n",
       "      <td>1.0</td>\n",
       "      <td>0.0</td>\n",
       "      <td>0.0</td>\n",
       "      <td>1.0</td>\n",
       "      <td>1.0</td>\n",
       "      <td>0.0</td>\n",
       "      <td>...</td>\n",
       "      <td>0.0</td>\n",
       "      <td>0.0</td>\n",
       "      <td>0.0</td>\n",
       "      <td>0.0</td>\n",
       "      <td>0.0</td>\n",
       "      <td>1.0</td>\n",
       "      <td>0.0</td>\n",
       "      <td>1.0</td>\n",
       "      <td>0.0</td>\n",
       "      <td>0.0</td>\n",
       "    </tr>\n",
       "    <tr>\n",
       "      <th>...</th>\n",
       "      <td>...</td>\n",
       "      <td>...</td>\n",
       "      <td>...</td>\n",
       "      <td>...</td>\n",
       "      <td>...</td>\n",
       "      <td>...</td>\n",
       "      <td>...</td>\n",
       "      <td>...</td>\n",
       "      <td>...</td>\n",
       "      <td>...</td>\n",
       "      <td>...</td>\n",
       "      <td>...</td>\n",
       "      <td>...</td>\n",
       "      <td>...</td>\n",
       "      <td>...</td>\n",
       "      <td>...</td>\n",
       "      <td>...</td>\n",
       "      <td>...</td>\n",
       "      <td>...</td>\n",
       "      <td>...</td>\n",
       "      <td>...</td>\n",
       "    </tr>\n",
       "    <tr>\n",
       "      <th>1304</th>\n",
       "      <td>1</td>\n",
       "      <td>22.7</td>\n",
       "      <td>0.0</td>\n",
       "      <td>0.0</td>\n",
       "      <td>1.0</td>\n",
       "      <td>0.0</td>\n",
       "      <td>0.0</td>\n",
       "      <td>1.0</td>\n",
       "      <td>1.0</td>\n",
       "      <td>0.0</td>\n",
       "      <td>...</td>\n",
       "      <td>0.0</td>\n",
       "      <td>0.0</td>\n",
       "      <td>0.0</td>\n",
       "      <td>0.0</td>\n",
       "      <td>0.0</td>\n",
       "      <td>1.0</td>\n",
       "      <td>0.0</td>\n",
       "      <td>0.0</td>\n",
       "      <td>1.0</td>\n",
       "      <td>0.0</td>\n",
       "    </tr>\n",
       "    <tr>\n",
       "      <th>1305</th>\n",
       "      <td>0</td>\n",
       "      <td>39.0</td>\n",
       "      <td>1.0</td>\n",
       "      <td>0.0</td>\n",
       "      <td>0.0</td>\n",
       "      <td>1.0</td>\n",
       "      <td>0.0</td>\n",
       "      <td>0.0</td>\n",
       "      <td>1.0</td>\n",
       "      <td>0.0</td>\n",
       "      <td>...</td>\n",
       "      <td>1.0</td>\n",
       "      <td>0.0</td>\n",
       "      <td>0.0</td>\n",
       "      <td>0.0</td>\n",
       "      <td>0.0</td>\n",
       "      <td>0.0</td>\n",
       "      <td>0.0</td>\n",
       "      <td>1.0</td>\n",
       "      <td>0.0</td>\n",
       "      <td>0.0</td>\n",
       "    </tr>\n",
       "    <tr>\n",
       "      <th>1306</th>\n",
       "      <td>1</td>\n",
       "      <td>38.5</td>\n",
       "      <td>0.0</td>\n",
       "      <td>0.0</td>\n",
       "      <td>1.0</td>\n",
       "      <td>0.0</td>\n",
       "      <td>0.0</td>\n",
       "      <td>1.0</td>\n",
       "      <td>1.0</td>\n",
       "      <td>0.0</td>\n",
       "      <td>...</td>\n",
       "      <td>0.0</td>\n",
       "      <td>0.0</td>\n",
       "      <td>0.0</td>\n",
       "      <td>0.0</td>\n",
       "      <td>0.0</td>\n",
       "      <td>1.0</td>\n",
       "      <td>0.0</td>\n",
       "      <td>1.0</td>\n",
       "      <td>0.0</td>\n",
       "      <td>0.0</td>\n",
       "    </tr>\n",
       "    <tr>\n",
       "      <th>1307</th>\n",
       "      <td>1</td>\n",
       "      <td>22.7</td>\n",
       "      <td>0.0</td>\n",
       "      <td>0.0</td>\n",
       "      <td>1.0</td>\n",
       "      <td>0.0</td>\n",
       "      <td>0.0</td>\n",
       "      <td>1.0</td>\n",
       "      <td>1.0</td>\n",
       "      <td>0.0</td>\n",
       "      <td>...</td>\n",
       "      <td>0.0</td>\n",
       "      <td>0.0</td>\n",
       "      <td>0.0</td>\n",
       "      <td>0.0</td>\n",
       "      <td>0.0</td>\n",
       "      <td>1.0</td>\n",
       "      <td>0.0</td>\n",
       "      <td>0.0</td>\n",
       "      <td>1.0</td>\n",
       "      <td>0.0</td>\n",
       "    </tr>\n",
       "    <tr>\n",
       "      <th>1308</th>\n",
       "      <td>1</td>\n",
       "      <td>22.7</td>\n",
       "      <td>0.0</td>\n",
       "      <td>0.0</td>\n",
       "      <td>1.0</td>\n",
       "      <td>1.0</td>\n",
       "      <td>0.0</td>\n",
       "      <td>0.0</td>\n",
       "      <td>0.0</td>\n",
       "      <td>1.0</td>\n",
       "      <td>...</td>\n",
       "      <td>0.0</td>\n",
       "      <td>0.0</td>\n",
       "      <td>0.0</td>\n",
       "      <td>0.0</td>\n",
       "      <td>0.0</td>\n",
       "      <td>1.0</td>\n",
       "      <td>0.0</td>\n",
       "      <td>0.0</td>\n",
       "      <td>1.0</td>\n",
       "      <td>0.0</td>\n",
       "    </tr>\n",
       "  </tbody>\n",
       "</table>\n",
       "<p>1309 rows × 23 columns</p>\n",
       "</div>"
      ],
      "text/plain": [
       "      Sex  Age  Pclass_1  Pclass_2  Pclass_3  Embarked_C  Embarked_Q  \\\n",
       "0       1 22.0       0.0       0.0       1.0         0.0         0.0   \n",
       "1       0 38.0       1.0       0.0       0.0         1.0         0.0   \n",
       "2       0 26.0       0.0       0.0       1.0         0.0         0.0   \n",
       "3       0 35.0       1.0       0.0       0.0         0.0         0.0   \n",
       "4       1 35.0       0.0       0.0       1.0         0.0         0.0   \n",
       "...   ...  ...       ...       ...       ...         ...         ...   \n",
       "1304    1 22.7       0.0       0.0       1.0         0.0         0.0   \n",
       "1305    0 39.0       1.0       0.0       0.0         1.0         0.0   \n",
       "1306    1 38.5       0.0       0.0       1.0         0.0         0.0   \n",
       "1307    1 22.7       0.0       0.0       1.0         0.0         0.0   \n",
       "1308    1 22.7       0.0       0.0       1.0         1.0         0.0   \n",
       "\n",
       "      Embarked_S  SibSp_0  SibSp_1  ...  Cabin_C  Cabin_D  Cabin_E  Cabin_F  \\\n",
       "0            1.0      0.0      1.0  ...      0.0      0.0      0.0      0.0   \n",
       "1            0.0      0.0      1.0  ...      1.0      0.0      0.0      0.0   \n",
       "2            1.0      1.0      0.0  ...      0.0      0.0      0.0      0.0   \n",
       "3            1.0      0.0      1.0  ...      1.0      0.0      0.0      0.0   \n",
       "4            1.0      1.0      0.0  ...      0.0      0.0      0.0      0.0   \n",
       "...          ...      ...      ...  ...      ...      ...      ...      ...   \n",
       "1304         1.0      1.0      0.0  ...      0.0      0.0      0.0      0.0   \n",
       "1305         0.0      1.0      0.0  ...      1.0      0.0      0.0      0.0   \n",
       "1306         1.0      1.0      0.0  ...      0.0      0.0      0.0      0.0   \n",
       "1307         1.0      1.0      0.0  ...      0.0      0.0      0.0      0.0   \n",
       "1308         0.0      0.0      1.0  ...      0.0      0.0      0.0      0.0   \n",
       "\n",
       "      Cabin_G  Cabin_N/A  Cabin_T  Age_type_Adult  Age_type_Old  \\\n",
       "0         0.0        1.0      0.0             1.0           0.0   \n",
       "1         0.0        0.0      0.0             1.0           0.0   \n",
       "2         0.0        1.0      0.0             1.0           0.0   \n",
       "3         0.0        0.0      0.0             1.0           0.0   \n",
       "4         0.0        1.0      0.0             1.0           0.0   \n",
       "...       ...        ...      ...             ...           ...   \n",
       "1304      0.0        1.0      0.0             0.0           1.0   \n",
       "1305      0.0        0.0      0.0             1.0           0.0   \n",
       "1306      0.0        1.0      0.0             1.0           0.0   \n",
       "1307      0.0        1.0      0.0             0.0           1.0   \n",
       "1308      0.0        1.0      0.0             0.0           1.0   \n",
       "\n",
       "      Age_type_Young  \n",
       "0                0.0  \n",
       "1                0.0  \n",
       "2                0.0  \n",
       "3                0.0  \n",
       "4                0.0  \n",
       "...              ...  \n",
       "1304             0.0  \n",
       "1305             0.0  \n",
       "1306             0.0  \n",
       "1307             0.0  \n",
       "1308             0.0  \n",
       "\n",
       "[1309 rows x 23 columns]"
      ]
     },
     "execution_count": 154,
     "metadata": {},
     "output_type": "execute_result"
    }
   ],
   "source": [
    "df_final\n"
   ]
  },
  {
   "cell_type": "code",
   "execution_count": 155,
   "metadata": {},
   "outputs": [],
   "source": [
    "df_final.drop(['Cabin_T'], axis=1, inplace=True)\n"
   ]
  },
  {
   "cell_type": "code",
   "execution_count": 156,
   "metadata": {},
   "outputs": [],
   "source": [
    "# pclass = df_final[['Pclass_1', 'Pclass_2', 'Pclass_3']].to_numpy()\n",
    "# sex = df_final[['Sex', 'Sex']].to_numpy()\n",
    "# np.matmul(pclass,)\n"
   ]
  },
  {
   "cell_type": "code",
   "execution_count": 157,
   "metadata": {},
   "outputs": [],
   "source": [
    "from sklearn.model_selection import train_test_split\n",
    "\n",
    "rng = 42\n",
    "\n",
    "\n",
    "x = df_final.loc[train_index]\n",
    "\n",
    "x_train, x_test, y_train, y_test = train_test_split(\n",
    "    x, y, test_size=0.3, random_state=rng)\n"
   ]
  },
  {
   "attachments": {},
   "cell_type": "markdown",
   "metadata": {},
   "source": [
    "Neural Network\n"
   ]
  },
  {
   "cell_type": "code",
   "execution_count": 158,
   "metadata": {},
   "outputs": [],
   "source": [
    "import tensorflow as tf\n",
    "from tensorflow.keras import layers\n"
   ]
  },
  {
   "cell_type": "code",
   "execution_count": 159,
   "metadata": {},
   "outputs": [
    {
     "name": "stdout",
     "output_type": "stream",
     "text": [
      "Defined the create_model and train_model functions.\n"
     ]
    }
   ],
   "source": [
    "def create_model(my_learning_rate, my_metrics, shape):\n",
    "    \"\"\"Create and compile a simple classification model.\"\"\"\n",
    "    model = tf.keras.models.Sequential()\n",
    "\n",
    "    model.add(tf.keras.layers.Dense(units=shape[1], input_shape=(shape[1], ),\n",
    "                                    kernel_initializer='normal',\n",
    "                                    activation='selu'),)\n",
    "\n",
    "    model.add(tf.keras.layers.Dense(units=shape[1] * 2,\n",
    "                                    kernel_regularizer=tf.keras.regularizers.l2(\n",
    "                                        l2=0.03),\n",
    "                                    kernel_initializer='normal',\n",
    "                                    activation='selu'),)\n",
    "\n",
    "    model.add(tf.keras.layers.Dense(units=1,\n",
    "                                    activation=tf.sigmoid),)\n",
    "\n",
    "    model.compile(optimizer=tf.keras.optimizers.experimental.RMSprop(learning_rate=my_learning_rate),\n",
    "                  loss=tf.keras.losses.BinaryCrossentropy(),\n",
    "                  metrics=my_metrics)\n",
    "\n",
    "    return model\n",
    "\n",
    "\n",
    "def train_model(model, x, epochs, y,\n",
    "                batch_size=None, shuffle=True):\n",
    "    \"\"\"Feed a dataset into the model in order to train it.\"\"\"\n",
    "    history = model.fit(x=x, y=y, batch_size=batch_size,\n",
    "                        epochs=epochs, shuffle=shuffle)\n",
    "\n",
    "    epochs = history.epoch\n",
    "\n",
    "    hist = pd.DataFrame(history.history)\n",
    "\n",
    "    return epochs, hist\n",
    "\n",
    "\n",
    "print(\"Defined the create_model and train_model functions.\")\n"
   ]
  },
  {
   "cell_type": "code",
   "execution_count": 160,
   "metadata": {},
   "outputs": [
    {
     "name": "stdout",
     "output_type": "stream",
     "text": [
      "Defined the plot_curve function.\n"
     ]
    }
   ],
   "source": [
    "def plot_curve(epochs, hist, list_of_metrics):\n",
    "    \"\"\"Plot a curve of one or more classification metrics vs. epoch.\"\"\"\n",
    "\n",
    "    plt.figure()\n",
    "    plt.xlabel(\"Epoch\")\n",
    "    plt.ylabel(\"Value\")\n",
    "\n",
    "    for m in list_of_metrics:\n",
    "        x = hist[m]\n",
    "        plt.plot(epochs[1:], x[1:], label=m)\n",
    "\n",
    "    plt.legend()\n",
    "\n",
    "\n",
    "print(\"Defined the plot_curve function.\")\n"
   ]
  },
  {
   "cell_type": "code",
   "execution_count": 161,
   "metadata": {},
   "outputs": [
    {
     "data": {
      "text/plain": [
       "(623, 22)"
      ]
     },
     "execution_count": 161,
     "metadata": {},
     "output_type": "execute_result"
    }
   ],
   "source": [
    "x_train.shape\n"
   ]
  },
  {
   "cell_type": "code",
   "execution_count": 162,
   "metadata": {},
   "outputs": [
    {
     "name": "stdout",
     "output_type": "stream",
     "text": [
      "Model: \"sequential\"\n",
      "_________________________________________________________________\n",
      " Layer (type)                Output Shape              Param #   \n",
      "=================================================================\n",
      " dense (Dense)               (None, 22)                506       \n",
      "                                                                 \n",
      " dense_1 (Dense)             (None, 44)                1012      \n",
      "                                                                 \n",
      " dense_2 (Dense)             (None, 1)                 45        \n",
      "                                                                 \n",
      "=================================================================\n",
      "Total params: 1,563\n",
      "Trainable params: 1,563\n",
      "Non-trainable params: 0\n",
      "_________________________________________________________________\n"
     ]
    }
   ],
   "source": [
    "# The following variables are the hyperparameters.\n",
    "learning_rate = 0.0005\n",
    "epochs = 100\n",
    "batch_size = 3\n",
    "classification_threshold = 0.6\n",
    "\n",
    "# Establish the metrics the model will measure.\n",
    "METRICS = [\n",
    "    tf.keras.metrics.BinaryAccuracy(name='accuracy',\n",
    "                                    threshold=classification_threshold),\n",
    "    tf.keras.metrics.Precision(thresholds=classification_threshold,\n",
    "                               name='precision'\n",
    "                               ),\n",
    "    tf.keras.metrics.Recall(thresholds=classification_threshold,\n",
    "                            name=\"recall\"),\n",
    "]\n",
    "\n",
    "# Establish the model's topography.\n",
    "model = create_model(learning_rate, METRICS, x_train.shape)\n",
    "model.summary()\n"
   ]
  },
  {
   "cell_type": "code",
   "execution_count": 163,
   "metadata": {},
   "outputs": [
    {
     "name": "stdout",
     "output_type": "stream",
     "text": [
      "Epoch 1/100\n",
      "208/208 [==============================] - 1s 2ms/step - loss: 0.7136 - accuracy: 0.6276 - precision: 0.0000e+00 - recall: 0.0000e+00\n",
      "Epoch 2/100\n",
      "208/208 [==============================] - 0s 1ms/step - loss: 0.6465 - accuracy: 0.6485 - precision: 0.8750 - recall: 0.0606  \n",
      "Epoch 3/100\n",
      "208/208 [==============================] - 0s 1ms/step - loss: 0.5845 - accuracy: 0.7143 - precision: 0.8841 - recall: 0.2641\n",
      "Epoch 4/100\n",
      "208/208 [==============================] - 0s 1ms/step - loss: 0.5432 - accuracy: 0.7432 - precision: 0.8318 - recall: 0.3853\n",
      "Epoch 5/100\n",
      "208/208 [==============================] - 0s 2ms/step - loss: 0.5071 - accuracy: 0.7817 - precision: 0.8740 - recall: 0.4805\n",
      "Epoch 6/100\n",
      "208/208 [==============================] - 0s 1ms/step - loss: 0.4966 - accuracy: 0.7897 - precision: 0.8623 - recall: 0.5152\n",
      "Epoch 7/100\n",
      "208/208 [==============================] - 0s 1ms/step - loss: 0.4844 - accuracy: 0.8042 - precision: 0.8562 - recall: 0.5671\n",
      "Epoch 8/100\n",
      "208/208 [==============================] - 0s 2ms/step - loss: 0.4709 - accuracy: 0.8074 - precision: 0.8491 - recall: 0.5844\n",
      "Epoch 9/100\n",
      "208/208 [==============================] - 0s 1ms/step - loss: 0.4684 - accuracy: 0.8106 - precision: 0.8742 - recall: 0.5714\n",
      "Epoch 10/100\n",
      "208/208 [==============================] - 0s 1ms/step - loss: 0.4672 - accuracy: 0.7881 - precision: 0.8194 - recall: 0.5498\n",
      "Epoch 11/100\n",
      "208/208 [==============================] - 0s 1ms/step - loss: 0.4630 - accuracy: 0.8186 - precision: 0.8598 - recall: 0.6104\n",
      "Epoch 12/100\n",
      "208/208 [==============================] - 0s 1ms/step - loss: 0.4606 - accuracy: 0.8026 - precision: 0.8176 - recall: 0.6017\n",
      "Epoch 13/100\n",
      "208/208 [==============================] - 0s 1ms/step - loss: 0.4544 - accuracy: 0.8090 - precision: 0.8415 - recall: 0.5974\n",
      "Epoch 14/100\n",
      "208/208 [==============================] - 0s 2ms/step - loss: 0.4536 - accuracy: 0.8058 - precision: 0.8395 - recall: 0.5887\n",
      "Epoch 15/100\n",
      "208/208 [==============================] - 0s 1ms/step - loss: 0.4465 - accuracy: 0.8186 - precision: 0.8391 - recall: 0.6320\n",
      "Epoch 16/100\n",
      "208/208 [==============================] - 0s 1ms/step - loss: 0.4557 - accuracy: 0.8186 - precision: 0.8512 - recall: 0.6190\n",
      "Epoch 17/100\n",
      "208/208 [==============================] - 0s 1ms/step - loss: 0.4490 - accuracy: 0.8283 - precision: 0.8735 - recall: 0.6277\n",
      "Epoch 18/100\n",
      "208/208 [==============================] - 0s 1ms/step - loss: 0.4483 - accuracy: 0.8315 - precision: 0.8663 - recall: 0.6450\n",
      "Epoch 19/100\n",
      "208/208 [==============================] - 0s 1ms/step - loss: 0.4505 - accuracy: 0.8170 - precision: 0.8421 - recall: 0.6234\n",
      "Epoch 20/100\n",
      "208/208 [==============================] - 0s 1ms/step - loss: 0.4476 - accuracy: 0.8090 - precision: 0.8415 - recall: 0.5974\n",
      "Epoch 21/100\n",
      "208/208 [==============================] - 0s 1ms/step - loss: 0.4445 - accuracy: 0.8234 - precision: 0.8623 - recall: 0.6234\n",
      "Epoch 22/100\n",
      "208/208 [==============================] - 0s 1ms/step - loss: 0.4506 - accuracy: 0.8106 - precision: 0.8343 - recall: 0.6104\n",
      "Epoch 23/100\n",
      "208/208 [==============================] - 0s 1ms/step - loss: 0.4435 - accuracy: 0.8283 - precision: 0.8647 - recall: 0.6364\n",
      "Epoch 24/100\n",
      "208/208 [==============================] - 0s 2ms/step - loss: 0.4433 - accuracy: 0.8218 - precision: 0.8571 - recall: 0.6234\n",
      "Epoch 25/100\n",
      "208/208 [==============================] - 0s 1ms/step - loss: 0.4430 - accuracy: 0.8266 - precision: 0.8596 - recall: 0.6364\n",
      "Epoch 26/100\n",
      "208/208 [==============================] - 0s 1ms/step - loss: 0.4456 - accuracy: 0.8299 - precision: 0.8788 - recall: 0.6277\n",
      "Epoch 27/100\n",
      "208/208 [==============================] - 0s 1ms/step - loss: 0.4396 - accuracy: 0.8138 - precision: 0.8485 - recall: 0.6061\n",
      "Epoch 28/100\n",
      "208/208 [==============================] - 0s 1ms/step - loss: 0.4452 - accuracy: 0.8154 - precision: 0.8295 - recall: 0.6320\n",
      "Epoch 29/100\n",
      "208/208 [==============================] - 0s 1ms/step - loss: 0.4403 - accuracy: 0.8315 - precision: 0.8706 - recall: 0.6407\n",
      "Epoch 30/100\n",
      "208/208 [==============================] - 0s 1ms/step - loss: 0.4401 - accuracy: 0.8250 - precision: 0.8631 - recall: 0.6277\n",
      "Epoch 31/100\n",
      "208/208 [==============================] - 0s 1ms/step - loss: 0.4403 - accuracy: 0.8347 - precision: 0.8678 - recall: 0.6537\n",
      "Epoch 32/100\n",
      "208/208 [==============================] - 0s 1ms/step - loss: 0.4339 - accuracy: 0.8202 - precision: 0.8400 - recall: 0.6364\n",
      "Epoch 33/100\n",
      "208/208 [==============================] - 0s 1ms/step - loss: 0.4368 - accuracy: 0.8202 - precision: 0.8400 - recall: 0.6364\n",
      "Epoch 34/100\n",
      "208/208 [==============================] - 0s 1ms/step - loss: 0.4382 - accuracy: 0.8331 - precision: 0.8757 - recall: 0.6407\n",
      "Epoch 35/100\n",
      "208/208 [==============================] - 0s 1ms/step - loss: 0.4371 - accuracy: 0.8315 - precision: 0.8539 - recall: 0.6580\n",
      "Epoch 36/100\n",
      "208/208 [==============================] - 0s 1ms/step - loss: 0.4420 - accuracy: 0.8283 - precision: 0.8523 - recall: 0.6494\n",
      "Epoch 37/100\n",
      "208/208 [==============================] - 0s 1ms/step - loss: 0.4371 - accuracy: 0.8218 - precision: 0.8488 - recall: 0.6320\n",
      "Epoch 38/100\n",
      "208/208 [==============================] - 0s 1ms/step - loss: 0.4375 - accuracy: 0.8138 - precision: 0.8363 - recall: 0.6190\n",
      "Epoch 39/100\n",
      "208/208 [==============================] - 0s 2ms/step - loss: 0.4377 - accuracy: 0.8186 - precision: 0.8430 - recall: 0.6277\n",
      "Epoch 40/100\n",
      "208/208 [==============================] - 0s 2ms/step - loss: 0.4390 - accuracy: 0.8234 - precision: 0.8580 - recall: 0.6277\n",
      "Epoch 41/100\n",
      "208/208 [==============================] - 0s 1ms/step - loss: 0.4358 - accuracy: 0.8315 - precision: 0.8580 - recall: 0.6537\n",
      "Epoch 42/100\n",
      "208/208 [==============================] - 0s 1ms/step - loss: 0.4346 - accuracy: 0.8331 - precision: 0.8629 - recall: 0.6537\n",
      "Epoch 43/100\n",
      "208/208 [==============================] - 0s 1ms/step - loss: 0.4348 - accuracy: 0.8266 - precision: 0.8555 - recall: 0.6407   \n",
      "Epoch 44/100\n",
      "208/208 [==============================] - 0s 2ms/step - loss: 0.4358 - accuracy: 0.8347 - precision: 0.8596 - recall: 0.6623\n",
      "Epoch 45/100\n",
      "208/208 [==============================] - 0s 1ms/step - loss: 0.4328 - accuracy: 0.8154 - precision: 0.8494 - recall: 0.6104\n",
      "Epoch 46/100\n",
      "208/208 [==============================] - 0s 1ms/step - loss: 0.4363 - accuracy: 0.8315 - precision: 0.8500 - recall: 0.6623\n",
      "Epoch 47/100\n",
      "208/208 [==============================] - 0s 1ms/step - loss: 0.4326 - accuracy: 0.8250 - precision: 0.8547 - recall: 0.6364\n",
      "Epoch 48/100\n",
      "208/208 [==============================] - 0s 1ms/step - loss: 0.4341 - accuracy: 0.8250 - precision: 0.8547 - recall: 0.6364\n",
      "Epoch 49/100\n",
      "208/208 [==============================] - 0s 1ms/step - loss: 0.4348 - accuracy: 0.8202 - precision: 0.8521 - recall: 0.6234\n",
      "Epoch 50/100\n",
      "208/208 [==============================] - 0s 1ms/step - loss: 0.4290 - accuracy: 0.8299 - precision: 0.8613 - recall: 0.6450\n",
      "Epoch 51/100\n",
      "208/208 [==============================] - 0s 1ms/step - loss: 0.4360 - accuracy: 0.8250 - precision: 0.8389 - recall: 0.6537\n",
      "Epoch 52/100\n",
      "208/208 [==============================] - 0s 2ms/step - loss: 0.4362 - accuracy: 0.8234 - precision: 0.8623 - recall: 0.6234\n",
      "Epoch 53/100\n",
      "208/208 [==============================] - 0s 1ms/step - loss: 0.4347 - accuracy: 0.8234 - precision: 0.8457 - recall: 0.6407\n",
      "Epoch 54/100\n",
      "208/208 [==============================] - 0s 1ms/step - loss: 0.4323 - accuracy: 0.8283 - precision: 0.8407 - recall: 0.6623\n",
      "Epoch 55/100\n",
      "208/208 [==============================] - 0s 1ms/step - loss: 0.4323 - accuracy: 0.8315 - precision: 0.8621 - recall: 0.6494\n",
      "Epoch 56/100\n",
      "208/208 [==============================] - 0s 1ms/step - loss: 0.4346 - accuracy: 0.8218 - precision: 0.8409 - recall: 0.6407\n",
      "Epoch 57/100\n",
      "208/208 [==============================] - 0s 1ms/step - loss: 0.4291 - accuracy: 0.8299 - precision: 0.8655 - recall: 0.6407\n",
      "Epoch 58/100\n",
      "208/208 [==============================] - 0s 1ms/step - loss: 0.4341 - accuracy: 0.8283 - precision: 0.8563 - recall: 0.6450\n",
      "Epoch 59/100\n",
      "208/208 [==============================] - 0s 1ms/step - loss: 0.4361 - accuracy: 0.8347 - precision: 0.8721 - recall: 0.6494\n",
      "Epoch 60/100\n",
      "208/208 [==============================] - 0s 1ms/step - loss: 0.4297 - accuracy: 0.8266 - precision: 0.8596 - recall: 0.6364\n",
      "Epoch 61/100\n",
      "208/208 [==============================] - 0s 1ms/step - loss: 0.4351 - accuracy: 0.8315 - precision: 0.8539 - recall: 0.6580\n",
      "Epoch 62/100\n",
      "208/208 [==============================] - 0s 1ms/step - loss: 0.4340 - accuracy: 0.8186 - precision: 0.8471 - recall: 0.6234\n",
      "Epoch 63/100\n",
      "208/208 [==============================] - 0s 1ms/step - loss: 0.4276 - accuracy: 0.8315 - precision: 0.8539 - recall: 0.6580\n",
      "Epoch 64/100\n",
      "208/208 [==============================] - 0s 1ms/step - loss: 0.4308 - accuracy: 0.8283 - precision: 0.8563 - recall: 0.6450\n",
      "Epoch 65/100\n",
      "208/208 [==============================] - 0s 1ms/step - loss: 0.4291 - accuracy: 0.8331 - precision: 0.8713 - recall: 0.6450\n",
      "Epoch 66/100\n",
      "208/208 [==============================] - 0s 1ms/step - loss: 0.4336 - accuracy: 0.8250 - precision: 0.8588 - recall: 0.6320\n",
      "Epoch 67/100\n",
      "208/208 [==============================] - 0s 1ms/step - loss: 0.4269 - accuracy: 0.8250 - precision: 0.8506 - recall: 0.6407\n",
      "Epoch 68/100\n",
      "208/208 [==============================] - 0s 1ms/step - loss: 0.4322 - accuracy: 0.8266 - precision: 0.8639 - recall: 0.6320\n",
      "Epoch 69/100\n",
      "208/208 [==============================] - 0s 1ms/step - loss: 0.4261 - accuracy: 0.8315 - precision: 0.8750 - recall: 0.6364\n",
      "Epoch 70/100\n",
      "208/208 [==============================] - 0s 1ms/step - loss: 0.4331 - accuracy: 0.8315 - precision: 0.8539 - recall: 0.6580\n",
      "Epoch 71/100\n",
      "208/208 [==============================] - 0s 1ms/step - loss: 0.4272 - accuracy: 0.8331 - precision: 0.8588 - recall: 0.6580\n",
      "Epoch 72/100\n",
      "208/208 [==============================] - 0s 1ms/step - loss: 0.4267 - accuracy: 0.8299 - precision: 0.8492 - recall: 0.6580\n",
      "Epoch 73/100\n",
      "208/208 [==============================] - 0s 1ms/step - loss: 0.4299 - accuracy: 0.8315 - precision: 0.8663 - recall: 0.6450\n",
      "Epoch 74/100\n",
      "208/208 [==============================] - 0s 1ms/step - loss: 0.4300 - accuracy: 0.8250 - precision: 0.8675 - recall: 0.6234\n",
      "Epoch 75/100\n",
      "208/208 [==============================] - 0s 1ms/step - loss: 0.4254 - accuracy: 0.8234 - precision: 0.8457 - recall: 0.6407\n",
      "Epoch 76/100\n",
      "208/208 [==============================] - 0s 1ms/step - loss: 0.4283 - accuracy: 0.8299 - precision: 0.8698 - recall: 0.6364\n",
      "Epoch 77/100\n",
      "208/208 [==============================] - 0s 1ms/step - loss: 0.4277 - accuracy: 0.8315 - precision: 0.8795 - recall: 0.6320\n",
      "Epoch 78/100\n",
      "208/208 [==============================] - 0s 1ms/step - loss: 0.4297 - accuracy: 0.8299 - precision: 0.8698 - recall: 0.6364\n",
      "Epoch 79/100\n",
      "208/208 [==============================] - 0s 2ms/step - loss: 0.4276 - accuracy: 0.8331 - precision: 0.8629 - recall: 0.6537\n",
      "Epoch 80/100\n",
      "208/208 [==============================] - 0s 1ms/step - loss: 0.4270 - accuracy: 0.8411 - precision: 0.8750 - recall: 0.6667\n",
      "Epoch 81/100\n",
      "208/208 [==============================] - 0s 1ms/step - loss: 0.4246 - accuracy: 0.8315 - precision: 0.8663 - recall: 0.6450\n",
      "Epoch 82/100\n",
      "208/208 [==============================] - 0s 1ms/step - loss: 0.4288 - accuracy: 0.8299 - precision: 0.8743 - recall: 0.6320\n",
      "Epoch 83/100\n",
      "208/208 [==============================] - 0s 1ms/step - loss: 0.4235 - accuracy: 0.8347 - precision: 0.8765 - recall: 0.6450\n",
      "Epoch 84/100\n",
      "208/208 [==============================] - 0s 1ms/step - loss: 0.4250 - accuracy: 0.8299 - precision: 0.8492 - recall: 0.6580\n",
      "Epoch 85/100\n",
      "208/208 [==============================] - 0s 1ms/step - loss: 0.4232 - accuracy: 0.8283 - precision: 0.8605 - recall: 0.6407\n",
      "Epoch 86/100\n",
      "208/208 [==============================] - 0s 1ms/step - loss: 0.4239 - accuracy: 0.8250 - precision: 0.8588 - recall: 0.6320\n",
      "Epoch 87/100\n",
      "208/208 [==============================] - 0s 1ms/step - loss: 0.4257 - accuracy: 0.8315 - precision: 0.8706 - recall: 0.6407\n",
      "Epoch 88/100\n",
      "208/208 [==============================] - 0s 1ms/step - loss: 0.4246 - accuracy: 0.8283 - precision: 0.8563 - recall: 0.6450\n",
      "Epoch 89/100\n",
      "208/208 [==============================] - 0s 1ms/step - loss: 0.4246 - accuracy: 0.8379 - precision: 0.8736 - recall: 0.6580\n",
      "Epoch 90/100\n",
      "208/208 [==============================] - 0s 2ms/step - loss: 0.4251 - accuracy: 0.8347 - precision: 0.8721 - recall: 0.6494\n",
      "Epoch 91/100\n",
      "208/208 [==============================] - 0s 1ms/step - loss: 0.4271 - accuracy: 0.8379 - precision: 0.8736 - recall: 0.6580\n",
      "Epoch 92/100\n",
      "208/208 [==============================] - 0s 1ms/step - loss: 0.4276 - accuracy: 0.8283 - precision: 0.8605 - recall: 0.6407\n",
      "Epoch 93/100\n",
      "208/208 [==============================] - 0s 1ms/step - loss: 0.4241 - accuracy: 0.8299 - precision: 0.8743 - recall: 0.6320\n",
      "Epoch 94/100\n",
      "208/208 [==============================] - 0s 1ms/step - loss: 0.4231 - accuracy: 0.8315 - precision: 0.8706 - recall: 0.6407\n",
      "Epoch 95/100\n",
      "208/208 [==============================] - 0s 1ms/step - loss: 0.4201 - accuracy: 0.8331 - precision: 0.8629 - recall: 0.6537\n",
      "Epoch 96/100\n",
      "208/208 [==============================] - 0s 1ms/step - loss: 0.4218 - accuracy: 0.8234 - precision: 0.8667 - recall: 0.6190\n",
      "Epoch 97/100\n",
      "208/208 [==============================] - 0s 1ms/step - loss: 0.4246 - accuracy: 0.8299 - precision: 0.8613 - recall: 0.6450\n",
      "Epoch 98/100\n",
      "208/208 [==============================] - 0s 1ms/step - loss: 0.4229 - accuracy: 0.8363 - precision: 0.8817 - recall: 0.6450\n",
      "Epoch 99/100\n",
      "208/208 [==============================] - 0s 2ms/step - loss: 0.4225 - accuracy: 0.8315 - precision: 0.8750 - recall: 0.6364\n",
      "Epoch 100/100\n",
      "208/208 [==============================] - 0s 1ms/step - loss: 0.4224 - accuracy: 0.8299 - precision: 0.8655 - recall: 0.6407\n"
     ]
    },
    {
     "data": {
      "image/png": "[encoded data removed]",
      "text/plain": [
       "<Figure size 640x480 with 1 Axes>"
      ]
     },
     "metadata": {},
     "output_type": "display_data"
    }
   ],
   "source": [
    "# Train the model on the training set.\n",
    "epochs, hist = train_model(model, x_train, epochs,\n",
    "                           y_train, batch_size)\n",
    "\n",
    "# # Plot a graph of the metric(s) vs. epochs.\n",
    "list_of_metrics_to_plot = ['accuracy', 'precision', 'recall']\n",
    "\n",
    "plot_curve(epochs, hist, list_of_metrics_to_plot)\n"
   ]
  },
  {
   "cell_type": "code",
   "execution_count": 164,
   "metadata": {},
   "outputs": [
    {
     "name": "stdout",
     "output_type": "stream",
     "text": [
      "90/90 [==============================] - 0s 1ms/step - loss: 0.4879 - accuracy: 0.7948 - precision: 0.9242 - recall: 0.5495   \n"
     ]
    },
    {
     "data": {
      "text/plain": [
       "[0.4878973960876465,\n",
       " 0.7947761416435242,\n",
       " 0.9242424368858337,\n",
       " 0.5495495200157166]"
      ]
     },
     "execution_count": 164,
     "metadata": {},
     "output_type": "execute_result"
    }
   ],
   "source": [
    "model.evaluate(x=x_test, y=y_test, batch_size=batch_size)\n"
   ]
  },
  {
   "cell_type": "code",
   "execution_count": 165,
   "metadata": {},
   "outputs": [
    {
     "name": "stdout",
     "output_type": "stream",
     "text": [
      "140/140 [==============================] - 0s 1ms/step\n"
     ]
    }
   ],
   "source": [
    "pred = model.predict(x=df_final.loc[test_index], batch_size=batch_size)\n",
    "res = [0 if el[0] < classification_threshold else 1 for el in pred]\n",
    "# print(res)\n",
    "pd.DataFrame({\n",
    "    'PassengerId': df.loc[test_index]['PassengerId'],\n",
    "    'Survived': res\n",
    "}).to_csv('submission.csv', index=False)\n"
   ]
  }
 ],
 "metadata": {
  "kernelspec": {
   "display_name": "Python 3",
   "language": "python",
   "name": "python3"
  },
  "language_info": {
   "codemirror_mode": {
    "name": "ipython",
    "version": 3
   },
   "file_extension": ".py",
   "mimetype": "text/x-python",
   "name": "python",
   "nbconvert_exporter": "python",
   "pygments_lexer": "ipython3",
   "version": "3.10.8"
  },
  "orig_nbformat": 4
 },
 "nbformat": 4,
 "nbformat_minor": 2
}
